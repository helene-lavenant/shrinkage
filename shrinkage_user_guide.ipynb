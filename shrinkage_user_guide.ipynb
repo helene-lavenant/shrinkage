{
 "cells": [
  {
   "cell_type": "markdown",
   "id": "11a0756b",
   "metadata": {},
   "source": [
    "# The `shrinkage` library: user's guide"
   ]
  },
  {
   "cell_type": "markdown",
   "id": "61a203cc",
   "metadata": {},
   "source": [
    "First, import `numpy` and `matplotlib.pyplot` as general tools used throughout this user guide:"
   ]
  },
  {
   "cell_type": "code",
   "execution_count": 1,
   "id": "bc6def20",
   "metadata": {},
   "outputs": [],
   "source": [
    "import numpy as np\n",
    "import matplotlib.pyplot as plt"
   ]
  },
  {
   "cell_type": "markdown",
   "id": "bc41f080",
   "metadata": {},
   "source": [
    "Make sure you can import from the `shrinkage` library:"
   ]
  },
  {
   "cell_type": "code",
   "execution_count": 2,
   "id": "c80a28bb",
   "metadata": {},
   "outputs": [
    {
     "data": {
      "text/plain": [
       "'1.0.0'"
      ]
     },
     "execution_count": 2,
     "metadata": {},
     "output_type": "execute_result"
    }
   ],
   "source": [
    "from shrinkage import __version__\n",
    "\n",
    "__version__"
   ]
  },
  {
   "cell_type": "markdown",
   "id": "9582a610",
   "metadata": {},
   "source": [
    "For theoretical background of _shrinkage estimators_ in large-dimensional statistics, see articles in the directory `papers`."
   ]
  },
  {
   "cell_type": "markdown",
   "id": "6a7936fb",
   "metadata": {},
   "source": [
    "# 1. Multivariate simulation (`SampleEigenvalues` class)"
   ]
  },
  {
   "cell_type": "markdown",
   "id": "97dcae67",
   "metadata": {},
   "source": [
    "In this section, we will discuss the `shrinkage.simulation` module, in particular the `SampleEigenvalues` class, and its functionalities related to simulating a data matrix $\\mathbf{Y}$. We will also mention the `PopulationCovariance` and `AutoCovariance` classes, which encapsulate the parameter matrices $\\mathbf{C}$ and $\\mathbf{A}$, respectively, of the \"sandwich\" model."
   ]
  },
  {
   "cell_type": "code",
   "execution_count": 3,
   "id": "53a698f5",
   "metadata": {},
   "outputs": [],
   "source": [
    "from shrinkage.simulation import SampleEigenvalues, PopulationCovariance, AutoCovariance"
   ]
  },
  {
   "cell_type": "markdown",
   "id": "b89ff98b",
   "metadata": {},
   "source": [
    "## 1.1. Introduction"
   ]
  },
  {
   "cell_type": "markdown",
   "id": "f90880a9",
   "metadata": {},
   "source": [
    "In _large-dimensional statistics_, one considers some $N$ entities of interest, and observes them over the course of $T_{\\textrm{total}}$ samples. The name of the regime - otherwise known as a _big data regime_ or _Kolmogorov regime_ - signifies that both $N$ and $T_{\\textrm{total}}$ are large and of comparable size. This is in contradistinction to standard multivariate statistics, in which $N$ is small compared to $T_{\\textrm{total}}$, i.e. we have many more samples than the entities to estimate. For this reason, usual statistical methods fail in the big data regime; for instance, well-known sample estimators are no longer optimal. One has to make use of a totally different toolbox, in particular methods of so-called _random matrix theory_.\n",
    "\n",
    "But before we go into these more advanced topics, we need to have some (\"big\") data to work with. In other words, we need to have a data matrix $\\mathbf{Y}$, of shape $N \\times T_{\\textrm{total}}$, representing the collected samples of our observed entities. This matrix may come from some experimental data source. You may think of $N \\sim$ a few hundred stocks of the S&P500 index, for which we collect daily returns over the couse of a few years, $T_{\\textrm{total}} \\sim$ hundreds to thousands. You may think of $N \\sim$ a few dozen differentially expressed genes, obsrved in $T_{\\textrm{total}} \\sim$ a few snapshots of a microarray experiment (here $\\mathbf{Y}$ is called a \"gene expression matrix\"). This is a very generic situation in many areas of science.\n",
    "\n",
    "Still before we investigate any real-world example, we may alternatively _simulate_ the matrix $\\mathbf{Y}$. This will let us both verify theoretical ideas encapsulated in this library, as well as learn its syntax in a controlled environment."
   ]
  },
  {
   "cell_type": "markdown",
   "id": "a556b84f",
   "metadata": {},
   "source": [
    "## 1.2. The \"sandwich\" model"
   ]
  },
  {
   "cell_type": "markdown",
   "id": "f30f72c3",
   "metadata": {},
   "source": [
    "The simulation models supported so far will all have the same \"sandwich\" form:\n",
    "\n",
    "- first, generate IID random numbers from either the standard normal or standard Student-t distribution, collected in a random matrix $\\mathbf{X}$, of the shape as above;\n",
    "\n",
    "- then \"sandwich\" it with square roots of a _population matrix_ $\\mathbf{C}$, and an _auto-correlation matrix_ $\\mathbf{A}$, like so, $\\mathbf{Y} = \\sqrt{\\mathbf{C}} \\mathbf{X} \\sqrt{\\mathbf{A}}$; these two matrices of model parameters are positive semi-definite real symmetric, of shapes $N \\times N$ and $T_{\\textrm{total}} \\times T_{\\textrm{total}}$, respectively.\n",
    "\n",
    "This prescription makes sure that the two-point average, $\\langle Y_{i t} Y_{j s} \\rangle = C_{i j} A_{t s}$; in other words, we have some specified cross-correlations $C_{i j}$ between the entities, and - completely decoupled from them - correlations between the samples themselves, $A_{t s}$."
   ]
  },
  {
   "cell_type": "markdown",
   "id": "64fbb641",
   "metadata": {},
   "source": [
    "### 1.2.1. Models of the population correlation matrix (`PopulationCovariance` class)"
   ]
  },
  {
   "cell_type": "markdown",
   "id": "53ad6b61",
   "metadata": {},
   "source": [
    "To simulate such a \"sandwich\" model, we need to specify the population correlation matrix $\\mathbf{C}$, and the auto-correlation matrix $\\mathbf{A}$. The former can be generated via an instance of the `PopulationCovariance` class. We need to specify its size `N`, and crucially, a model (`C_model`) from which to build the matrix; supported models include:\n",
    "\n",
    "- the default is `C_model='unit'`: $\\mathbf{C}$ is the unit matrix.\n",
    "\n",
    "- `C_model='clusters'`: $\\mathbf{C}$ is diagonal, with eigenvalues defined in a list `e_list`, each eigenvalue appearing a given fraction of times of $N$, the fractions collected in a list `f_list`; this has length one less than `e_list`, as the fractions need to sum up to one, so the last one need not be stated.\n",
    "\n",
    "- `C_model='inverse-Wishart'`: $\\mathbf{C}$ will have random eigenvalues from the _inverse Wishart_ distribution. We specify a parameter `kappa` ($\\kappa$); calculate $q_{ \\textrm{IW} } = 1 / (1 + 2 \\kappa)$, then $T_{ \\textrm{IW} } = N / q_{ \\textrm{IW} }$ (integer part of it); generate a random matrix $\\mathbf{R}$ of shape $N \\times T_{ \\textrm{IW} }$, and form from it a Wishart random matrix, $\\mathbf{W} = \\frac{1}{T_{ \\textrm{IW} }} \\mathbf{R} \\mathbf{R}^{\\top}$; finally, $\\mathbf{C} = (1 - q_{ \\textrm{IW} }) \\mathbf{W}^{-1}$.\n",
    "\n",
    "- `C_model='Kumaraswamy'`: $\\mathbf{C}$ will have random eigenvalues from the _Kumaraswamy_ distribution. We specify parameters `a` ($a$), `b` ($b$), and `condition_number` ($c$); generate a random vector $\\mathbf{r}$ of length $N$, and let $\\mathbf{k} = (1 - (1 - \\mathbf{r})^{1 / b})^{1 / a}$; finally, the eigenvalues of $\\mathbf{C}$ are defined as $1 + (c - 1) \\mathbf{k}$.\n",
    "\n",
    "In some of these cases we generate only the eigenvalues of $\\mathbf{C}$; such a diagonal matrix may then be optionally (`rotate_C=True`) rotated by a random (with the Haar measure) orthogonal matrix, $\\mathbf{O} \\mathbf{C} \\mathbf{O}^{\\top}$. Our formalism, however, is invariant w.r.t. to such similarity transformations, and so this step should have no effect on any result.\n",
    "\n",
    "After instantiating the class with the above parameters, the resulting matrix $\\mathbf{C}$ resides in the `C` attribute, while its square root $\\sqrt{\\mathbf{C}}$ in `sqrt_C`."
   ]
  },
  {
   "cell_type": "markdown",
   "id": "c1502b3b",
   "metadata": {},
   "source": [
    "In all examples in this tutorial we will have:"
   ]
  },
  {
   "cell_type": "code",
   "execution_count": 4,
   "id": "66707160",
   "metadata": {},
   "outputs": [],
   "source": [
    "N = 500"
   ]
  },
  {
   "cell_type": "markdown",
   "id": "3bcb5027",
   "metadata": {},
   "source": [
    "Let's look at some examples:"
   ]
  },
  {
   "cell_type": "markdown",
   "id": "4b1fcb60",
   "metadata": {},
   "source": [
    "(1) clustered eigenvalues:"
   ]
  },
  {
   "cell_type": "code",
   "execution_count": 5,
   "id": "43afdd61",
   "metadata": {},
   "outputs": [],
   "source": [
    "population_covariance_1 = PopulationCovariance(\n",
    "    N=N,\n",
    "    C_model='clusters',\n",
    "    f_list=[0.5],\n",
    "    e_list=[1., 3.],\n",
    "    rotate_C=True\n",
    ")"
   ]
  },
  {
   "cell_type": "code",
   "execution_count": 6,
   "id": "5a5af79e",
   "metadata": {},
   "outputs": [
    {
     "data": {
      "text/plain": [
       "(500, 500)"
      ]
     },
     "execution_count": 6,
     "metadata": {},
     "output_type": "execute_result"
    }
   ],
   "source": [
    "population_covariance_1.C.shape"
   ]
  },
  {
   "cell_type": "code",
   "execution_count": 7,
   "id": "79401051",
   "metadata": {},
   "outputs": [
    {
     "data": {
      "text/plain": [
       "(500, 500)"
      ]
     },
     "execution_count": 7,
     "metadata": {},
     "output_type": "execute_result"
    }
   ],
   "source": [
    "population_covariance_1.sqrt_C.shape"
   ]
  },
  {
   "cell_type": "markdown",
   "id": "f1834cbd",
   "metadata": {},
   "source": [
    "(2) inverse-Wishart eigenvalues:"
   ]
  },
  {
   "cell_type": "code",
   "execution_count": 8,
   "id": "7a08863d",
   "metadata": {},
   "outputs": [],
   "source": [
    "population_covariance_2 = PopulationCovariance(\n",
    "    N=N,\n",
    "    C_model='inverse-Wishart',\n",
    "    kappa=2.,\n",
    "    rotate_C=True\n",
    ")"
   ]
  },
  {
   "cell_type": "code",
   "execution_count": 9,
   "id": "e7b8e32b",
   "metadata": {},
   "outputs": [
    {
     "data": {
      "text/plain": [
       "(500, 500)"
      ]
     },
     "execution_count": 9,
     "metadata": {},
     "output_type": "execute_result"
    }
   ],
   "source": [
    "population_covariance_2.C.shape"
   ]
  },
  {
   "cell_type": "code",
   "execution_count": 10,
   "id": "e7bb4a94",
   "metadata": {},
   "outputs": [
    {
     "data": {
      "text/plain": [
       "(500, 500)"
      ]
     },
     "execution_count": 10,
     "metadata": {},
     "output_type": "execute_result"
    }
   ],
   "source": [
    "population_covariance_2.sqrt_C.shape"
   ]
  },
  {
   "cell_type": "markdown",
   "id": "f770a5b4",
   "metadata": {},
   "source": [
    "(3) Kumaraswamy eigenvalues:"
   ]
  },
  {
   "cell_type": "code",
   "execution_count": 11,
   "id": "51acdb10",
   "metadata": {},
   "outputs": [],
   "source": [
    "population_covariance_3 = PopulationCovariance(\n",
    "    N=N,\n",
    "    C_model='Kumaraswamy',\n",
    "    a=0.3,\n",
    "    b=0.7,\n",
    "    condition_number=5.,\n",
    "    rotate_C=True\n",
    ")"
   ]
  },
  {
   "cell_type": "code",
   "execution_count": 12,
   "id": "e93d09fb",
   "metadata": {},
   "outputs": [
    {
     "data": {
      "text/plain": [
       "(500, 500)"
      ]
     },
     "execution_count": 12,
     "metadata": {},
     "output_type": "execute_result"
    }
   ],
   "source": [
    "population_covariance_3.C.shape"
   ]
  },
  {
   "cell_type": "code",
   "execution_count": 13,
   "id": "be9f4b34",
   "metadata": {},
   "outputs": [
    {
     "data": {
      "text/plain": [
       "(500, 500)"
      ]
     },
     "execution_count": 13,
     "metadata": {},
     "output_type": "execute_result"
    }
   ],
   "source": [
    "population_covariance_3.sqrt_C.shape"
   ]
  },
  {
   "cell_type": "markdown",
   "id": "4c77ec23",
   "metadata": {},
   "source": [
    "### 1.2.2. Models of the auto-correlation matrix (`AutoCovariance` class)"
   ]
  },
  {
   "cell_type": "markdown",
   "id": "4eb1f113",
   "metadata": {},
   "source": [
    "The auto-correlation matrix $\\mathbf{A}$ is similarly defined as the attribute `A` of an instance of the `AutoCovariance` class. Analogously as above, we need to specify `T_total`, and crucially a model (`A_model`), out of:\n",
    "\n",
    "- the default is `A_model='unit'`: $\\mathbf{A}$ is the unit matrix.\n",
    "\n",
    "- `A_model='VARMA'`: $\\mathbf{A}$ comes from a broad family of VARMA processes. In particular, a $\\textrm{VARMA}(r_{1}, r_{2})$ process is defined via the following recurrence relation:\n",
    "  $$\n",
    "  Y_{i, a} = \\sum_{\\beta = 1}^{r_{1}} b_{\\beta} Y_{i, a - \\beta} + \\sum_{\\alpha = 0}^{r_{2}} a_{\\alpha} \\epsilon_{i, a - \\alpha}\n",
    "  $$\n",
    "  Here $\\epsilon$ is a matrix of IID standard Gaussian or Student-t variables. Such a process has $(r_{2} + 1)$ \"MA\" parameters $a_{\\alpha}$, and $r_{1}$ \"AR\" parameters $b_{\\beta}$; we provide them via the attributes `a_list` and `b_list`. In this class, however, we are not performing any such simulation; rather, we make use of the fact that the matrix $\\mathbf{A}$ is known for such a process, and we construct it explicitly. Note that internally, we instantiate here an object of the class `Varma` from the `varma` module; upon instantiation, the matrix $\\mathbf{A}$ is calculated via the private method `_calculate_A`.\n",
    "\n",
    "- `A_model='exp-decay'`: This is a simple sub-type of the VARMA case; indeed, a VAR(1) model with a particular set of parameters, $b_{1} = \\textrm{e}^{-1 / \\tau}$ and $a_{0} = \\sqrt{1 - b_{1}^{2}}$, has a very simple auto-correlation matrix, a Toeplitz matrix $A_{t s} = a(|t - s|)$, with $a(t) = \\textrm{e}^{-t / \\tau}$; this thus models the simplest exponentially-decaying auto-correlations, with correlation time $\\tau$ (`tau`).\n",
    "\n",
    "- `A_model='EWMA'`: An exponentially-weighted moving average (EWMA) estimator can be modeled within the current framework with an auto-correlation matrix, $A_{t s} = T \\frac{ 1 - \\epsilon }{ 1 - \\epsilon^{T} } \\epsilon^{t - 1} \\delta_{t s}$, for a constant $\\epsilon$. In the context of large-dimensional statistics, and for the reason of computational tractability, one should consider the following limit, $\\epsilon = 1 - \\frac{ \\delta }{ T }$, at large $T$, for some given $\\delta$ (`delta`).\n",
    "\n",
    "Again, we may optionally (`rotate_A=True`) perform a Haar-measure random orthogonal similarity transformation on such an $\\mathbf{A}$.\n",
    "\n",
    "Instantiation of the class readily calculates $\\mathbf{A}$ (attribute `A`), as well as $\\sqrt{\\mathbf{A}}$ (attribute `sqrt_A`)."
   ]
  },
  {
   "cell_type": "markdown",
   "id": "5ddc1952",
   "metadata": {},
   "source": [
    "Some examples:"
   ]
  },
  {
   "cell_type": "code",
   "execution_count": 14,
   "id": "003663c1",
   "metadata": {},
   "outputs": [],
   "source": [
    "T_total = 1500"
   ]
  },
  {
   "cell_type": "markdown",
   "id": "67b84a3c",
   "metadata": {},
   "source": [
    "(1) VARMA:"
   ]
  },
  {
   "cell_type": "code",
   "execution_count": 15,
   "id": "fcc318f0",
   "metadata": {},
   "outputs": [],
   "source": [
    "auto_covariance_1 = AutoCovariance(\n",
    "    T_total=T_total,\n",
    "    A_model='VARMA',\n",
    "    a_list=[0.8, 0.4],\n",
    "    b_list=[0.3],\n",
    "    rotate_A=False\n",
    ")"
   ]
  },
  {
   "cell_type": "code",
   "execution_count": 16,
   "id": "4540eec7",
   "metadata": {},
   "outputs": [
    {
     "data": {
      "text/plain": [
       "(1500, 1500)"
      ]
     },
     "execution_count": 16,
     "metadata": {},
     "output_type": "execute_result"
    }
   ],
   "source": [
    "auto_covariance_1.A.shape"
   ]
  },
  {
   "cell_type": "code",
   "execution_count": 17,
   "id": "68d1ca8f",
   "metadata": {},
   "outputs": [
    {
     "data": {
      "text/plain": [
       "(1500, 1500)"
      ]
     },
     "execution_count": 17,
     "metadata": {},
     "output_type": "execute_result"
    }
   ],
   "source": [
    "auto_covariance_1.sqrt_A.shape"
   ]
  },
  {
   "cell_type": "markdown",
   "id": "b35f4aaf",
   "metadata": {},
   "source": [
    "(2) exponential decay:"
   ]
  },
  {
   "cell_type": "code",
   "execution_count": 18,
   "id": "6261c691",
   "metadata": {},
   "outputs": [],
   "source": [
    "auto_covariance_2 = AutoCovariance(\n",
    "    T_total=T_total,\n",
    "    A_model='exp-decay',\n",
    "    tau=2.5,\n",
    "    rotate_A=False\n",
    ")"
   ]
  },
  {
   "cell_type": "code",
   "execution_count": 19,
   "id": "92a4621c",
   "metadata": {},
   "outputs": [
    {
     "data": {
      "text/plain": [
       "(1500, 1500)"
      ]
     },
     "execution_count": 19,
     "metadata": {},
     "output_type": "execute_result"
    }
   ],
   "source": [
    "auto_covariance_2.A.shape"
   ]
  },
  {
   "cell_type": "code",
   "execution_count": 20,
   "id": "9d096083",
   "metadata": {},
   "outputs": [
    {
     "data": {
      "text/plain": [
       "(1500, 1500)"
      ]
     },
     "execution_count": 20,
     "metadata": {},
     "output_type": "execute_result"
    }
   ],
   "source": [
    "auto_covariance_2.sqrt_A.shape"
   ]
  },
  {
   "cell_type": "markdown",
   "id": "b1815ed8",
   "metadata": {},
   "source": [
    "(3) exponentially-weighted moving average:"
   ]
  },
  {
   "cell_type": "code",
   "execution_count": 21,
   "id": "b9802345",
   "metadata": {},
   "outputs": [],
   "source": [
    "auto_covariance_3 = AutoCovariance(\n",
    "    T_total=T_total,\n",
    "    A_model='EWMA',\n",
    "    delta=5.,\n",
    "    rotate_A=False\n",
    ")"
   ]
  },
  {
   "cell_type": "code",
   "execution_count": 22,
   "id": "00b04456",
   "metadata": {},
   "outputs": [
    {
     "data": {
      "text/plain": [
       "(1500, 1500)"
      ]
     },
     "execution_count": 22,
     "metadata": {},
     "output_type": "execute_result"
    }
   ],
   "source": [
    "auto_covariance_3.A.shape"
   ]
  },
  {
   "cell_type": "code",
   "execution_count": 23,
   "id": "6e1ee502",
   "metadata": {},
   "outputs": [
    {
     "data": {
      "text/plain": [
       "(1500, 1500)"
      ]
     },
     "execution_count": 23,
     "metadata": {},
     "output_type": "execute_result"
    }
   ],
   "source": [
    "auto_covariance_3.sqrt_A.shape"
   ]
  },
  {
   "cell_type": "markdown",
   "id": "204dd08d",
   "metadata": {},
   "source": [
    "## 1.3. Simulating from the \"sandwich\" model"
   ]
  },
  {
   "cell_type": "markdown",
   "id": "b73a4ed9",
   "metadata": {},
   "source": [
    "### 1.3.1. Simulation and eigenvalues (`SampleEigenvalues` class)"
   ]
  },
  {
   "cell_type": "markdown",
   "id": "ce1524fa",
   "metadata": {},
   "source": [
    "Having understood what the \"sandwich\" model is, and what kinds of $\\mathbf{C}$ and $\\mathbf{A}$ matrices are supported, we may finally simulate a data matrix $\\mathbf{Y}$. We do so within the main class of the `shrinkage.simulation` module, `SampleEigenvalues`, which we instantiate with `method='sandwich'`. Other instantiation parameters are:\n",
    "\n",
    "- `N`.\n",
    "\n",
    "- `T`: This $T$ will be an \"effective\" number of samples, rather than $T_{ \\textrm{total} }$; to be sure, we will always simulate $T_{ \\textrm{total} }$ samples, but only $T$ of them will be used in most situations; the remaining ones are needed for one purpose only: a certain out-of-sample estimation procedure of the so-called oracle estimator.\n",
    "\n",
    "- `T_total`: It is $2 T$ by default, and may well be left at this value. Once again, this means that we will simulate $2 T$ samples, out of which only $T$ will be used in all situations but one (the oracle estimator).\n",
    "\n",
    "- `dist`: Defines a distribution of the random noise $\\mathbf{X}$; `'Gaussian'` by default (then the entries of $\\mathbf{X}$ are IID standard normal random variables), may also be `'Student-t'` (in which case set `df` = degrees of freedom; the entries are IID standard Student-t variables).\n",
    "\n",
    "- `C_model` and `A_model`: As above; both `'unit'` by default. We may also set `rotate_C` or `rotate_A` to `True` (they are `False` by default), in order to perform a random similarity transformation on either $\\mathbf{C}$ or $\\mathbf{A}$, as described above.\n",
    "\n",
    "Instantiation of the `SampleEigenvalues` class will then readily:\n",
    "\n",
    "- simulate the matrix $\\mathbf{Y} = \\sqrt{\\mathbf{C}} \\mathbf{X} \\sqrt{\\mathbf{A}}$ (residing in the `Y` attribute), as outlined above,\n",
    "\n",
    "- then calculate the _sample correlation matrix_ $\\mathbf{E} = \\frac{1}{T} \\mathbf{Y}_{ \\textrm{trunc} } \\mathbf{Y}_{ \\textrm{trunc} }^{\\top}$, where $\\mathbf{Y}_{ \\textrm{trunc} }$ is the $N \\times T$ part of $\\mathbf{Y}$ (this sample correlation matrix resides in the `E` attribute),\n",
    "\n",
    "- as well as its $N$ eigenvalues $\\lambda_{i}$, for $i = 1, \\ldots, N$ (`E_eigval` attribute), and eigenvectors $\\mathbf{u}_{i}$ (`E_eigvec` attribute); $\\mathbf{E} = \\sum_{i = 1}^{N} \\lambda_{i} | \\mathbf{u}_{i} \\rangle \\langle \\mathbf{u}_{i} |$;\n",
    "\n",
    "- there'll also be an auxiliary Boolean attribute `verified_E_eigensystem` which checks whether the relation $\\mathbf{E} = \\mathbf{U} \\mathbf{\\Lambda} \\mathbf{U}^{\\textrm{T}}$ holds, where $\\mathbf{\\Lambda}$ is a diagonal matrix with the $\\lambda_{i}$'s, while $\\mathbf{U}$ contains the eigenvectors."
   ]
  },
  {
   "cell_type": "markdown",
   "id": "7db03e81",
   "metadata": {},
   "source": [
    "### 1.3.2. Example 1"
   ]
  },
  {
   "cell_type": "markdown",
   "id": "1ff02ecb",
   "metadata": {},
   "source": [
    "For $\\mathbf{A}$, let's start with a simple VMA(1) model of temporal auto-correlations: set `a_list` to have two elements, $a_{0}$ and $a_{1}$, and the `b_list` empty (default), plus the Gaussian noise distribution. For $\\mathbf{C}$, take two clustered eigenvalues."
   ]
  },
  {
   "cell_type": "code",
   "execution_count": 24,
   "id": "6a428680",
   "metadata": {},
   "outputs": [],
   "source": [
    "T = 1000"
   ]
  },
  {
   "cell_type": "code",
   "execution_count": 25,
   "id": "37635889",
   "metadata": {},
   "outputs": [],
   "source": [
    "sample_1 = SampleEigenvalues(\n",
    "    method='sandwich',\n",
    "    N=N,\n",
    "    C_model='clusters',\n",
    "    f_list=[0.5],\n",
    "    e_list=[1., 3.],\n",
    "    T=T,\n",
    "    A_model='VARMA',\n",
    "    a_list=[0.8, 0.5]\n",
    ")"
   ]
  },
  {
   "cell_type": "markdown",
   "id": "1ef3a96f",
   "metadata": {},
   "source": [
    "Some of the attributes: First, we check that the default `dist` is indeed Gaussian, and default $T_{ \\textrm{total} } = 2 T$:"
   ]
  },
  {
   "cell_type": "code",
   "execution_count": 26,
   "id": "26078de7",
   "metadata": {},
   "outputs": [
    {
     "data": {
      "text/plain": [
       "'Gaussian'"
      ]
     },
     "execution_count": 26,
     "metadata": {},
     "output_type": "execute_result"
    }
   ],
   "source": [
    "sample_1.dist"
   ]
  },
  {
   "cell_type": "code",
   "execution_count": 27,
   "id": "300ce268",
   "metadata": {},
   "outputs": [
    {
     "data": {
      "text/plain": [
       "2000"
      ]
     },
     "execution_count": 27,
     "metadata": {},
     "output_type": "execute_result"
    }
   ],
   "source": [
    "sample_1.T_total"
   ]
  },
  {
   "cell_type": "markdown",
   "id": "8a3ebb61",
   "metadata": {},
   "source": [
    "We have access to the two \"true\" correlation matrices via the attributes `population_covariance` (an instance of the `PopulationCovariance` class):"
   ]
  },
  {
   "cell_type": "code",
   "execution_count": 28,
   "id": "567b088d",
   "metadata": {},
   "outputs": [
    {
     "data": {
      "text/plain": [
       "(500, 500)"
      ]
     },
     "execution_count": 28,
     "metadata": {},
     "output_type": "execute_result"
    }
   ],
   "source": [
    "sample_1.population_covariance.C.shape"
   ]
  },
  {
   "cell_type": "code",
   "execution_count": 29,
   "id": "a2509e0a",
   "metadata": {},
   "outputs": [
    {
     "data": {
      "text/plain": [
       "(500, 500)"
      ]
     },
     "execution_count": 29,
     "metadata": {},
     "output_type": "execute_result"
    }
   ],
   "source": [
    "sample_1.population_covariance.sqrt_C.shape"
   ]
  },
  {
   "cell_type": "code",
   "execution_count": 30,
   "id": "86d641bd",
   "metadata": {},
   "outputs": [
    {
     "data": {
      "text/plain": [
       "False"
      ]
     },
     "execution_count": 30,
     "metadata": {},
     "output_type": "execute_result"
    }
   ],
   "source": [
    "sample_1.population_covariance.rotate_C"
   ]
  },
  {
   "cell_type": "markdown",
   "id": "693a3e9c",
   "metadata": {},
   "source": [
    "... as well as `auto_covariance` (an instance of the `AutoCovariance` class):"
   ]
  },
  {
   "cell_type": "code",
   "execution_count": 31,
   "id": "5b8a5135",
   "metadata": {},
   "outputs": [
    {
     "data": {
      "text/plain": [
       "(2000, 2000)"
      ]
     },
     "execution_count": 31,
     "metadata": {},
     "output_type": "execute_result"
    }
   ],
   "source": [
    "sample_1.auto_covariance.A.shape"
   ]
  },
  {
   "cell_type": "code",
   "execution_count": 32,
   "id": "3c48a9fe",
   "metadata": {},
   "outputs": [
    {
     "data": {
      "text/plain": [
       "(2000, 2000)"
      ]
     },
     "execution_count": 32,
     "metadata": {},
     "output_type": "execute_result"
    }
   ],
   "source": [
    "sample_1.auto_covariance.sqrt_A.shape"
   ]
  },
  {
   "cell_type": "code",
   "execution_count": 33,
   "id": "88005110",
   "metadata": {},
   "outputs": [
    {
     "data": {
      "text/plain": [
       "False"
      ]
     },
     "execution_count": 33,
     "metadata": {},
     "output_type": "execute_result"
    }
   ],
   "source": [
    "sample_1.auto_covariance.rotate_A"
   ]
  },
  {
   "cell_type": "markdown",
   "id": "1874b27b",
   "metadata": {},
   "source": [
    "We also get access to parameters of the $\\mathbf{C}$ and $\\mathbf{A}$ models:"
   ]
  },
  {
   "cell_type": "code",
   "execution_count": 34,
   "id": "f7a91570",
   "metadata": {},
   "outputs": [
    {
     "data": {
      "text/plain": [
       "[1.0, 3.0]"
      ]
     },
     "execution_count": 34,
     "metadata": {},
     "output_type": "execute_result"
    }
   ],
   "source": [
    "sample_1.population_covariance.e_list"
   ]
  },
  {
   "cell_type": "code",
   "execution_count": 35,
   "id": "bab3a8bc",
   "metadata": {},
   "outputs": [
    {
     "data": {
      "text/plain": [
       "[0.5]"
      ]
     },
     "execution_count": 35,
     "metadata": {},
     "output_type": "execute_result"
    }
   ],
   "source": [
    "sample_1.population_covariance.f_list"
   ]
  },
  {
   "cell_type": "markdown",
   "id": "b882b6ad",
   "metadata": {},
   "source": [
    "... and:"
   ]
  },
  {
   "cell_type": "code",
   "execution_count": 36,
   "id": "b88231e6",
   "metadata": {},
   "outputs": [
    {
     "data": {
      "text/plain": [
       "(0, 1)"
      ]
     },
     "execution_count": 36,
     "metadata": {},
     "output_type": "execute_result"
    }
   ],
   "source": [
    "sample_1.auto_covariance.r1, sample_1.auto_covariance.r2"
   ]
  },
  {
   "cell_type": "code",
   "execution_count": 37,
   "id": "8e11778d",
   "metadata": {},
   "outputs": [
    {
     "data": {
      "text/plain": [
       "array([0.8, 0.5])"
      ]
     },
     "execution_count": 37,
     "metadata": {},
     "output_type": "execute_result"
    }
   ],
   "source": [
    "sample_1.auto_covariance.a_list"
   ]
  },
  {
   "cell_type": "code",
   "execution_count": 38,
   "id": "496bdaae",
   "metadata": {},
   "outputs": [
    {
     "data": {
      "text/plain": [
       "array([], dtype=float64)"
      ]
     },
     "execution_count": 38,
     "metadata": {},
     "output_type": "execute_result"
    }
   ],
   "source": [
    "sample_1.auto_covariance.b_list"
   ]
  },
  {
   "cell_type": "markdown",
   "id": "041ffa57",
   "metadata": {},
   "source": [
    "But of course most crucially, we now have a simulated data matrix in the `Y` attribute:"
   ]
  },
  {
   "cell_type": "code",
   "execution_count": 39,
   "id": "eea2e98e",
   "metadata": {},
   "outputs": [
    {
     "data": {
      "text/plain": [
       "(500, 2000)"
      ]
     },
     "execution_count": 39,
     "metadata": {},
     "output_type": "execute_result"
    }
   ],
   "source": [
    "sample_1.Y.shape"
   ]
  },
  {
   "cell_type": "markdown",
   "id": "d2892471",
   "metadata": {},
   "source": [
    "We also have the sample correlation estimator $\\mathbf{E}$ (of the \"truncated\" version of $\\mathbf{Y}$, i.e. its $N \\times T$ part), in the `E` attribute:"
   ]
  },
  {
   "cell_type": "code",
   "execution_count": 40,
   "id": "06e894cc",
   "metadata": {},
   "outputs": [
    {
     "data": {
      "text/plain": [
       "(500, 500)"
      ]
     },
     "execution_count": 40,
     "metadata": {},
     "output_type": "execute_result"
    }
   ],
   "source": [
    "sample_1.E.shape"
   ]
  },
  {
   "cell_type": "markdown",
   "id": "6401adf6",
   "metadata": {},
   "source": [
    "As well as the eigenvalues and eigenvectors:"
   ]
  },
  {
   "cell_type": "code",
   "execution_count": 41,
   "id": "0dff6fc3",
   "metadata": {},
   "outputs": [
    {
     "data": {
      "text/plain": [
       "(500,)"
      ]
     },
     "execution_count": 41,
     "metadata": {},
     "output_type": "execute_result"
    }
   ],
   "source": [
    "sample_1.E_eigval.shape"
   ]
  },
  {
   "cell_type": "code",
   "execution_count": 42,
   "id": "f2809721",
   "metadata": {},
   "outputs": [
    {
     "data": {
      "text/plain": [
       "(500, 500)"
      ]
     },
     "execution_count": 42,
     "metadata": {},
     "output_type": "execute_result"
    }
   ],
   "source": [
    "sample_1.E_eigvec.shape"
   ]
  },
  {
   "cell_type": "markdown",
   "id": "d22a553c",
   "metadata": {},
   "source": [
    "We may also verify that the eigendecomposition has bee performed correctly:"
   ]
  },
  {
   "cell_type": "code",
   "execution_count": 43,
   "id": "4796c384",
   "metadata": {},
   "outputs": [
    {
     "data": {
      "text/plain": [
       "True"
      ]
     },
     "execution_count": 43,
     "metadata": {},
     "output_type": "execute_result"
    }
   ],
   "source": [
    "sample_1.verified_E_eigensystem"
   ]
  },
  {
   "cell_type": "markdown",
   "id": "09853401",
   "metadata": {},
   "source": [
    "Finally, the `SampleEigenvalues` class has a simple method `hist` to plot a histogram of the sample eigenvalues $\\lambda_{i}$:"
   ]
  },
  {
   "cell_type": "code",
   "execution_count": 44,
   "id": "6cf2f94f",
   "metadata": {},
   "outputs": [
    {
     "data": {
      "image/png": "[encoded data removed]",
      "text/plain": [
       "<Figure size 432x288 with 1 Axes>"
      ]
     },
     "metadata": {
      "needs_background": "light"
     },
     "output_type": "display_data"
    }
   ],
   "source": [
    "sample_1.hist()"
   ]
  },
  {
   "cell_type": "markdown",
   "id": "9dd2b432",
   "metadata": {},
   "source": [
    "You can optionally set the number of `bins`, which is (an integer part of) $N / 4$ by default; decide whether to have a `legend` (`True` by default); and whether to save the plot to a file (if so, specify a file name in the `savefig` parameter; it is `None` by default, which means to simply display the figure)."
   ]
  },
  {
   "cell_type": "markdown",
   "id": "fc996335",
   "metadata": {},
   "source": [
    "### 1.3.3. Example 2"
   ]
  },
  {
   "cell_type": "markdown",
   "id": "e6f37018",
   "metadata": {},
   "source": [
    "Choose now a VARMA(1, 1) model for $\\mathbf{A}$, inverse Wishart model for $\\mathbf{C}$, and the Student-t distribution with $5$ degrees of freedom."
   ]
  },
  {
   "cell_type": "code",
   "execution_count": 45,
   "id": "1ab394fe",
   "metadata": {},
   "outputs": [],
   "source": [
    "sample_2 = SampleEigenvalues(\n",
    "    method='sandwich',\n",
    "    N=N,\n",
    "    C_model='inverse-Wishart',\n",
    "    kappa=2.,\n",
    "    T=T,\n",
    "    A_model='VARMA',\n",
    "    a_list=[0.8, 0.5],\n",
    "    b_list=[0.4],\n",
    "    dist='Student-t',\n",
    "    df=5\n",
    ")"
   ]
  },
  {
   "cell_type": "code",
   "execution_count": 46,
   "id": "8b0f278e",
   "metadata": {},
   "outputs": [
    {
     "data": {
      "text/plain": [
       "(500, 2000)"
      ]
     },
     "execution_count": 46,
     "metadata": {},
     "output_type": "execute_result"
    }
   ],
   "source": [
    "sample_2.Y.shape"
   ]
  },
  {
   "cell_type": "code",
   "execution_count": 47,
   "id": "7d1dc6e1",
   "metadata": {},
   "outputs": [
    {
     "data": {
      "text/plain": [
       "(500, 500)"
      ]
     },
     "execution_count": 47,
     "metadata": {},
     "output_type": "execute_result"
    }
   ],
   "source": [
    "sample_2.E.shape"
   ]
  },
  {
   "cell_type": "code",
   "execution_count": 48,
   "id": "70a9a15d",
   "metadata": {},
   "outputs": [
    {
     "data": {
      "text/plain": [
       "(500,)"
      ]
     },
     "execution_count": 48,
     "metadata": {},
     "output_type": "execute_result"
    }
   ],
   "source": [
    "sample_2.E_eigval.shape"
   ]
  },
  {
   "cell_type": "code",
   "execution_count": 49,
   "id": "b939dcfb",
   "metadata": {},
   "outputs": [
    {
     "data": {
      "text/plain": [
       "(500, 500)"
      ]
     },
     "execution_count": 49,
     "metadata": {},
     "output_type": "execute_result"
    }
   ],
   "source": [
    "sample_2.E_eigvec.shape"
   ]
  },
  {
   "cell_type": "code",
   "execution_count": 50,
   "id": "1ba2aab6",
   "metadata": {},
   "outputs": [
    {
     "data": {
      "text/plain": [
       "True"
      ]
     },
     "execution_count": 50,
     "metadata": {},
     "output_type": "execute_result"
    }
   ],
   "source": [
    "sample_2.verified_E_eigensystem"
   ]
  },
  {
   "cell_type": "code",
   "execution_count": 51,
   "id": "7c7ccd22",
   "metadata": {},
   "outputs": [
    {
     "data": {
      "image/png": "[encoded data removed]",
      "text/plain": [
       "<Figure size 432x288 with 1 Axes>"
      ]
     },
     "metadata": {
      "needs_background": "light"
     },
     "output_type": "display_data"
    }
   ],
   "source": [
    "sample_2.hist()"
   ]
  },
  {
   "cell_type": "markdown",
   "id": "6d544962",
   "metadata": {},
   "source": [
    "### 1.3.4. Example 3"
   ]
  },
  {
   "cell_type": "markdown",
   "id": "8d33b7ab",
   "metadata": {},
   "source": [
    "Choose now an exp-decay model for $\\mathbf{A}$, Kumaraswamy model for $\\mathbf{C}$, and the Student-t distribution with $3$ degrees of freedom."
   ]
  },
  {
   "cell_type": "code",
   "execution_count": 52,
   "id": "f132aacc",
   "metadata": {},
   "outputs": [],
   "source": [
    "sample_3 = SampleEigenvalues(\n",
    "    method='sandwich',\n",
    "    N=N,\n",
    "    C_model='Kumaraswamy',\n",
    "    a=0.4,\n",
    "    b=0.7,\n",
    "    condition_number=5.,\n",
    "    T=T,\n",
    "    A_model='exp-decay',\n",
    "    tau=3.,\n",
    "    dist='Student-t',\n",
    "    df=3\n",
    ")"
   ]
  },
  {
   "cell_type": "code",
   "execution_count": 53,
   "id": "a6fe41a6",
   "metadata": {},
   "outputs": [
    {
     "data": {
      "text/plain": [
       "(500, 2000)"
      ]
     },
     "execution_count": 53,
     "metadata": {},
     "output_type": "execute_result"
    }
   ],
   "source": [
    "sample_3.Y.shape"
   ]
  },
  {
   "cell_type": "code",
   "execution_count": 54,
   "id": "e00c70d9",
   "metadata": {},
   "outputs": [
    {
     "data": {
      "text/plain": [
       "(500, 500)"
      ]
     },
     "execution_count": 54,
     "metadata": {},
     "output_type": "execute_result"
    }
   ],
   "source": [
    "sample_3.E.shape"
   ]
  },
  {
   "cell_type": "code",
   "execution_count": 55,
   "id": "54e08c8f",
   "metadata": {},
   "outputs": [
    {
     "data": {
      "text/plain": [
       "(500,)"
      ]
     },
     "execution_count": 55,
     "metadata": {},
     "output_type": "execute_result"
    }
   ],
   "source": [
    "sample_3.E_eigval.shape"
   ]
  },
  {
   "cell_type": "code",
   "execution_count": 56,
   "id": "a5dde9cd",
   "metadata": {},
   "outputs": [
    {
     "data": {
      "text/plain": [
       "(500, 500)"
      ]
     },
     "execution_count": 56,
     "metadata": {},
     "output_type": "execute_result"
    }
   ],
   "source": [
    "sample_3.E_eigvec.shape"
   ]
  },
  {
   "cell_type": "code",
   "execution_count": 57,
   "id": "a80b6548",
   "metadata": {},
   "outputs": [
    {
     "data": {
      "text/plain": [
       "True"
      ]
     },
     "execution_count": 57,
     "metadata": {},
     "output_type": "execute_result"
    }
   ],
   "source": [
    "sample_3.verified_E_eigensystem"
   ]
  },
  {
   "cell_type": "code",
   "execution_count": 58,
   "id": "74ce107f",
   "metadata": {},
   "outputs": [
    {
     "data": {
      "image/png": "[encoded data removed]",
      "text/plain": [
       "<Figure size 432x288 with 1 Axes>"
      ]
     },
     "metadata": {
      "needs_background": "light"
     },
     "output_type": "display_data"
    }
   ],
   "source": [
    "sample_3.hist()"
   ]
  },
  {
   "cell_type": "markdown",
   "id": "50545c5f",
   "metadata": {},
   "source": [
    "# 2. Shrinkage cleaning of sample eigenvalues"
   ]
  },
  {
   "cell_type": "markdown",
   "id": "e66c4e7c",
   "metadata": {},
   "source": [
    "In this section, we will discuss the main module of the library, `shrinkage.rie`, containing classes (especially `LedoitPecheShrinkage` and `VarmaShrinkage`) that allow us to perform _nonlinear shrinkage_, i.e. nonlinear cleaning of the noise present in the sample estimator $\\mathbf{E}$ of correlations in the large-dimensional limit."
   ]
  },
  {
   "cell_type": "code",
   "execution_count": 59,
   "id": "c667c43a",
   "metadata": {},
   "outputs": [],
   "source": [
    "from shrinkage.rie import LedoitPecheShrinkage, VarmaShrinkage"
   ]
  },
  {
   "cell_type": "markdown",
   "id": "ec294b3a",
   "metadata": {},
   "source": [
    "## 2.1. Introduction"
   ]
  },
  {
   "cell_type": "markdown",
   "id": "5844b2c3",
   "metadata": {},
   "source": [
    "### 2.1.1. Rotationally invariant estimators (RIEs) of correlations - shrinkage"
   ]
  },
  {
   "cell_type": "markdown",
   "id": "6f2cf8d1",
   "metadata": {},
   "source": [
    "In large-dimensional statistics (recall, both the number of entities $N$ and the number of samples $T$ large and of comparable size, i.e., $q = N/T \\sim 1$), the sample estimator $\\mathbf{E}$ of correlations is not optimal; its mean squared error (MSE; here known as the _Frobenius norm_) as compared to the \"true\" (population) correlation matrix $\\mathbf{C}$, i.e., $\\textrm{Tr} \\, (\\mathbf{E} - \\mathbf{C})^{2}$, does _not_ tend to zero with an increasing number of samples $T$, as it is in standard multivariate statistics ($N$ small compared to $T$). Another way of looking at the problem is to notice that usual statistical estimators have _high variance_ in the large-dimensional limit; the \"truth\" about the underlying correlations is hidden behind a lot of \"noise\".\n",
    "\n",
    "Since estimating correlations is a very common task in diverse areas of science, and often happens in the \"big data regime\" discussed here (with examples from physics, finance, genomics and bioinformatics, acoustics and signal processing, image processing, cancer research, neuroscience, and others), one is faced with a challenge of constructing _optimal estimators_ $\\mathbf{\\Xi}$ of correlations, that is, with a lower MSE than the standard sample estimator $\\mathbf{E}$. These estimators will have a higher bias than $\\mathbf{E}$, but much lower variance, having effectively a lower MSE ([recall](https://en.wikipedia.org/wiki/Bias_of_an_estimator) that MSE = bias$^{2}$ + variance). This is reminiscent of the [James-Stein estimator](https://en.wikipedia.org/wiki/James%E2%80%93Stein_estimator) of multidimensional ($N \\geq 3$) mean, which is biased, but has a lower MSE than the standard sample estimator.\n",
    "\n",
    "One recent approach to the problem is the following: Suppose we do not have any prior information on the eigenvectors of $\\mathbf{\\Xi}$, no bias in any particular direction in their $N$-dimensional space; then, the only available basis is that of the observed sample estimator $\\mathbf{E}$. Let's thus try to construct a MSE-optimal estimator with the same eigenbasis as $\\mathbf{E}$, i.e. $\\mathbf{u}_{i}$, but with some different eigenvalues $\\xi_{i}$:\n",
    "$$\n",
    "\\mathbf{\\Xi} = \\sum_{i = 1}^{N} \\xi_{i} | \\mathbf{u}_{i} \\rangle \\langle \\mathbf{u}_{i} |\n",
    "$$\n",
    "In other words, we are \"cleaning\" the \"noise\" in the sample eigenvalues $\\lambda_{i}$: replacing them by different $\\xi_{i}$ so that the MSE of the resulting estimator $\\mathbf{\\Xi}$ is lower than that of $\\mathbf{E}$. This form is called _rotationally invariant estimators_ (RIEs). (The intuition behind this name is that, as mentioned, there is no bias in any particular direction. Furthermore, this Ansatz may be understood in Bayesian language as originating from a prior distribution on $\\mathbf{C}$ which is invariant under orthogonal similarity transformations.)\n",
    "\n",
    "Every such prescription for constructing an estimator with a better MSE is called _shrinkage_; we will observe this visually later on when plotting histograms of both the \"noisy\" $\\lambda_{i}$'s and the \"cleaned\" $\\xi_{i}$'s - the latter will be narrower (\"shrunk\") as compared to the former, sculpted more tightly around the true underlying eigenvalues of $\\mathbf{C}$. We will thus refer to $\\xi_{i}$ as _shrunk eigenvalues_."
   ]
  },
  {
   "cell_type": "markdown",
   "id": "40c8c18a",
   "metadata": {},
   "source": [
    "### 2.1.2. Ledoit-Péché shrinkage and random matrix theory"
   ]
  },
  {
   "cell_type": "markdown",
   "id": "413084b1",
   "metadata": {},
   "source": [
    "An optimal set of \"cleaned\" eigenvalues $\\xi_{i}$ is found by minimizing the MSE (Frobenius norm) between $\\mathbf{\\Xi}$ and $\\mathbf{C}$. One does this under an assumption of a certain model for the noise, and then hope that in the large-dimensional limit the result extends to other probability distributions not too dissimilar to the assumed model; similarly like the central limit theorem is derived for Gaussian variables, but then holds for a whole class of distributions, in the limit of a large number of variables. The simplest model of the noise is Gaussian, and in fact, the \"sandwich\" model discussed above, $\\mathbf{Y} = \\sqrt{\\mathbf{C}} \\mathbf{X} \\sqrt{\\mathbf{A}}$, with $\\mathbf{X}$ IID standard normal. In this case, the problem of minimizing the MSE can be solved exactly.\n",
    "\n",
    "There is however an important observation: the resulting optimal $\\xi_{i}$'s depend on the true correlation matrix $\\mathbf{C}$; indeed, it is easy to minimize the MSE with a RIE Ansatz:\n",
    "$$\n",
    "\\xi^{ \\textrm{oracle} }_{i} = \\langle \\mathbf{u}_{i} | \\mathbf{C} | \\mathbf{u}_{i} \\rangle\n",
    "$$\n",
    "This is not surprising: we are, after all, considering an error as compared to $\\mathbf{C}$, so the solution naturally depends on it. But for this reason, it is hardly useful: $\\mathbf{C}$ is unknown in a real-world scenario (and we are doing our best in this library to estimate it!). Since the solution depends on an unknown quantity, it is termed an _oracle estimator_. We will come back later to this topic.\n",
    "\n",
    "However, it is a known phenomenon that a MSE-optimal estimator may in fact be independent of the parameters being estimated; indeed, miraculously, it can be proven here that in the large-dimensional limit ($N, T \\to \\infty$ with $q = N/T$ fixed) the dependence on $\\mathbf{C}$ disappears, and the \"cleaned\" eigenvalues $\\xi_{i}$ can be expressed solely in terms of observable quantities, namely the sample eigenvalues $\\lambda_{i}$, readily estimated from the observed data $\\mathbf{Y}$ (this, recall, is performed by the class `SampleEigenvalues`).\n",
    "\n",
    "This miracle is demonstrated by employing methods of [random matrix theory](https://en.wikipedia.org/wiki/Random_matrix) (RMT). We will not present the derivation, but we do need some definitions. For a random matrix $\\mathbf{E}$, say our sample estimator:\n",
    "\n",
    "- The basic object is the _resolvent_: a matrix function of a complex argument $z$,\n",
    "  $$\n",
    "  \\mathbf{G}_{ \\mathbf{E} } (z) \\equiv (z \\mathbf{1} - \\mathbf{E})^{-1}\n",
    "  $$\n",
    "  This looks like a random function, due to the randomness of $\\mathbf{E}$, but in the large-$N$ limit, it is self-averaging, i.e. independent of any realization of $\\mathbf{E}$, but converging to a deterministic matrix, $\\mathbf{G}_{ \\mathbf{E} } (z) = \\langle \\mathbf{G}_{ \\mathbf{E} } (z) \\rangle$.\n",
    "\n",
    "- Its normalized trace:\n",
    "  $$\n",
    "  G_{ \\mathbf{E} } (z) \\equiv \\frac{1}{N} \\textrm{Tr} \\, \\mathbf{G}_{ \\mathbf{E} } (z) = \\int \\textrm{d} \\lambda \\rho_{ \\mathbf{E} } (\\lambda) \\frac{1}{z - \\lambda}\n",
    "  $$\n",
    "  is called the _Stieltjes transform_, and encodes information about the spectrum of $\\mathbf{E}$.\n",
    "\n",
    "- Indeed, a basic characteristic of the spectrum is the _eigenvalue density_, $\\rho_{ \\mathbf{E} } (\\lambda)$. Another characteristic is so-called [_Hilbert transform_](https://en.wikipedia.org/wiki/Hilbert_transform) of the eigenvalues:\n",
    "  $$\n",
    "  h_{ \\mathbf{E} } (\\lambda) \\equiv \\textrm{pv} \\int \\textrm{d} \\lambda' \\rho_{ \\mathbf{E} } (\\lambda') \\frac{1}{\\lambda - \\lambda'}\n",
    "  $$\n",
    "  (\"pv\" stands for [\"principal value\"](https://en.wikipedia.org/wiki/Principal_value) of the integral). Now, it turns out that both these quantities are encoded in the Stieltjes transform; indeed, evaluating it close to the real axis produces the Hilbert transform as the real part of the result, and the eigenvalue density as the imaginary part:\n",
    "  $$\n",
    "  G_{ \\mathbf{E} } (\\lambda - \\textrm{i} \\epsilon) = h_{ \\mathbf{E} } (\\lambda) + \\textrm{i} \\pi \\rho_{ \\mathbf{E} } (\\lambda)\n",
    "  $$\n",
    "  (where implicitly, $\\epsilon \\to 0^{+}$).\n",
    "\n",
    "- A small modification of the resolvent (and Stieltjes transform) is the so-called _M-transform_ (or _moment generating function_), in a matrix form:\n",
    "  $$\n",
    "  \\mathbf{M}_{ \\mathbf{E} } (z) \\equiv z \\mathbf{G}_{ \\mathbf{E} } (z) - 1\n",
    "  $$\n",
    "  and, after taking the normalized trace of both sides, a scalar form:\n",
    "  $$\n",
    "  M_{ \\mathbf{E} } (z) \\equiv z G_{ \\mathbf{E} } (z) - 1\n",
    "  $$\n",
    "  (Its expansion in $1/z$ is comprised of the probabilistic moments of $\\mathbf{E}$, hence the name.) We will mainly use the M-transform, rather than the resolvent/Stieltjes transform.\n",
    "\n",
    "- Now carry out the following procedure: Take the scalar M-transform, $M_{ \\mathbf{E} } (z)$, and invert it functionally - this yields the so-called _N-transform_:\n",
    "  $$\n",
    "  M_{ \\mathbf{E} } ( N_{ \\mathbf{E} } (z) ) = N_{ \\mathbf{E} } ( M_{ \\mathbf{E} } (z) ) = z\n",
    "  $$\n",
    "  Further, a numerical inverse of the N-transform is called the $\\chi$-_transform_:\n",
    "  $$\n",
    "  \\chi_{ \\mathbf{E} } (z) \\equiv \\frac{ 1 }{ N_{ \\mathbf{E} } (z) }\n",
    "  $$\n",
    "\n",
    "Having presented all these definitions, we return to the problem of optimal shrinkage in the case of the \"sandwich\" model. Let's simplify the model even more by assuming for now $\\mathbf{A} = \\mathbf{1}$, i.e. no auto-correlations; the model is thus $\\mathbf{Y} = \\sqrt{\\mathbf{C}} \\mathbf{X}$, with $\\mathbf{X}$ IID standard normal. The MSE-optimal shrunk eigenvalues in this case has been derived - with techniques of random matrix theory - by Olivier Ledoit and Sandrine Péché ([_Eigenvectors of some large sample covariance matrix ensembles_](https://arxiv.org/abs/0911.3010), 2009). As mentioned, a \"miracle\" happens in that the resulting expression is independent of $\\mathbf{C}$, i.e. the parameters being estimated, but fully described by observable quantities; these observables are related to the spectrum of the sample estimator $\\mathbf{E}$, and in fact are the eigenvalue density $\\rho_{ \\mathbf{E} } (\\lambda)$ and Hilbert transform $h_{ \\mathbf{E} } (\\lambda)$, introduced above. For each sample (\"noisy\") eigenvalue $\\lambda_{i}$, denote intermediate variables:\n",
    "$$\n",
    "\\alpha_{i} \\equiv q \\left( \\lambda_{i} h_{ \\mathbf{E} } (\\lambda_{i}) - 1 \\right) , \\qquad \\beta_{i} \\equiv \\pi q \\lambda_{i} \\rho_{ \\mathbf{E} } (\\lambda_{i})\n",
    "$$\n",
    "(recall, $q = N/T$). The _Ledoit-Péché shrinkage formula_ is then:\n",
    "$$\n",
    "\\frac{ \\xi^{ \\textrm{LP} }_{i} }{ \\lambda_{i} } = \\frac{ 1 }{ (\\alpha_{i} + 1)^{2} + \\beta_{i}^{2} }\n",
    "$$\n",
    "It is implemented in the `LedoitPecheShrinkage` class, outlined below."
   ]
  },
  {
   "cell_type": "markdown",
   "id": "c4fd029a",
   "metadata": {},
   "source": [
    "### 2.1.3. Epanechnikov kernel estimation"
   ]
  },
  {
   "cell_type": "markdown",
   "id": "757cf791",
   "metadata": {},
   "source": [
    "The Ledoit-Péché shrinkage formula depends only on observable quantities, but these quantities still need to be somehow numerically computed from the sample eigenvalues $\\xi_{i}$. An ingenious and very simple approach has been recently proposed by Olivier Ledoit and Michael Wolf ([_Analytical nonlinear shrinkage of large-dimensional covariance matrices_](http://www.econ.uzh.ch/static/wp/econwp264.pdf), 2018), in which one approximates the eigenvalue density and Hilbert transform by a sum of [_kernels_](https://en.wikipedia.org/wiki/Kernel_density_estimation), simple functions peaked around each $\\lambda_{i}$:\n",
    "$$\n",
    "\\rho_{ \\mathbf{E} } ( \\lambda ) = \\frac{1}{N} \\sum_{i = 1}^{N} \\frac{ 1 }{ \\mathfrak{b} \\lambda_{i} } \\mathfrak{r} \\left( \\frac{ \\lambda - \\lambda_{i} }{ \\mathfrak{b} \\lambda_{i} } \\right) , \\qquad h_{ \\mathbf{E} } ( \\lambda ) = \\frac{1}{N} \\sum_{i = 1}^{N} \\frac{ 1 }{ \\mathfrak{b} \\lambda_{i} } \\mathfrak{h} \\left( \\frac{ \\lambda - \\lambda_{i} }{ \\mathfrak{b} \\lambda_{i} } \\right)\n",
    "$$\n",
    "To elucidate the notation: $\\mathfrak{r}$ and $\\mathfrak{h}$ are kernels used to approximate, respectively, the eigenvalue density and Hilbert transform. For the former, Ledoit and Wolf choose the _Epanechnikov kernel_, essentially a little parabola:\n",
    "$$\n",
    "\\mathfrak{r} (x) \\equiv \\frac{ 3 }{ 4 \\sqrt{5} } \\max \\left( 1 - \\frac{ x^{2} }{ 5 } , 0 \\right)\n",
    "$$\n",
    "The latter kernel follows from this one, since the Hilbert transform is an integral of the density, see above; a simple calculation thus gives:\n",
    "$$\n",
    "\\mathfrak{h} (x) = \\frac{3}{10} x - \\frac{ 3 }{ 4 \\sqrt{5} } \\left( 1 - \\frac{ x^{2} }{ 5 } \\right) \\log \\left| \\frac{ \\sqrt{5} - x }{ \\sqrt{5} + x } \\right|\n",
    "$$\n",
    "(with the log-term understood to be zero at $x = \\pm \\sqrt{5}$). Finally, $\\mathfrak{b}$ is a _bandwidth_, a scale factor chosen to yield the best approximation by the kernels; Ledoit and Wolf set it to $\\mathfrak{b} = T^{-1/3}$ (recall, $T$ is the number of samples), and we do the same.\n",
    "\n",
    "To summarize, once the sample eigenvalues $\\lambda_{i}$ are retrieved from the data (here with help of the `SampleEigenvalues` class), these simple and explicit formulas provide accurate approximations of the eigenvalue density $\\rho_{ \\mathbf{E} } ( \\lambda )$ and Hilbert transform $h_{ \\mathbf{E} } ( \\lambda )$, the observables in the Ledoit-Péché shrinkage formula."
   ]
  },
  {
   "cell_type": "markdown",
   "id": "0dee2ab0",
   "metadata": {},
   "source": [
    "### 2.1.4. Shrinkage with auto-correlations"
   ]
  },
  {
   "cell_type": "markdown",
   "id": "ce819ad1",
   "metadata": {},
   "source": [
    "The Ledoit-Péché solution holds, as mentioned, for the \"sandwich\" model with $\\mathbf{A} = \\mathbf{1}$, i.e. no auto-correlations. For the full model, $\\mathbf{Y} = \\sqrt{\\mathbf{C}} \\mathbf{X} \\sqrt{\\mathbf{A}}$, a random matrix theory calculation may be carried out, too, and the resulting expression for the MSE-optimal shrunk eigenvalues now involves the $\\chi$-transform of the auto-correlation matrix $\\mathbf{A}$, as well as the intermediate variables present in the Ledoit-Péché formula, all defined above:\n",
    "$$\n",
    "\\frac{ \\xi_{i} }{ \\lambda_{i} } = \\frac{ \\textrm{Im} \\, \\chi_{ \\mathbf{A} } (u_{i}) }{ \\textrm{Im} \\, u_{i} } , \\qquad u_{i} \\equiv \\alpha_{i} + \\textrm{i} \\beta_{i}\n",
    "$$\n",
    "The logic here is the following: We need to assume some model of auto-correlations, some matrix $\\mathbf{A}$; for this model, we should be able to calculate the $\\chi$-transform, $\\chi_{ \\mathbf{A} } (z)$; once this function is available, we compute the shrunk eigenvalues from the Ledoit-Péché variables $\\alpha_{i}$ and $\\beta_{i}$.\n",
    "\n",
    "One might protest that $\\mathbf{A}$ should in principle be estimated from the data itself. However, this here approach again demonstrates the power of an \"effective\" description: we choose some tractable model of auto-correlations, with some parameters that we eventually _fit_ to data; what matters is that the final estimator even better reflects the truth of the underlying $\\mathbf{C}$.\n",
    "\n",
    "A broad family of models for $\\mathbf{A}$, which are both tractable and inclusive of a wide range behaviors, is the [VARMA](https://en.wikipedia.org/wiki/Autoregressive%E2%80%93moving-average_model) class, see above. We have calculated the $\\chi$-transform of $\\mathbf{A}$ for several sub-models here, namely VMA(1), VAR(1), VARMA(1, 1), VMA(2), and VAR(2); see below."
   ]
  },
  {
   "cell_type": "markdown",
   "id": "a7e91bb7",
   "metadata": {},
   "source": [
    "## 2.2. Ledoit-Péché shrinkage (`LedoitPecheShrinkage` class)"
   ]
  },
  {
   "cell_type": "markdown",
   "id": "5a730a13",
   "metadata": {},
   "source": [
    "The Ledoit-Péché formula (which, recall, holds for the \"sandwich\" model with no auto-correlations) is implemented in the `LedoitPecheShrinkage` class in the `shrinkage.rie` module. Moreover, this will be a parent class of various other nonlinear shrinkage methods, valid for particular models of $\\mathbf{A}$; for instance, the `VarmaShrinkage` class, which implements formulas for VARMA auto-correlations.\n",
    "\n",
    "We instantiate the class with parameters:\n",
    "\n",
    "- `lambdas`: an array of $N$ sample eigenvalues $\\lambda_{i}$;\n",
    "\n",
    "- `T`: the number of samples.\n",
    "\n",
    "Then, $N$ will be accessible through the `N` attribute, and $q = N/T$ through `q`; also, the `name` attribute is set to `'Ledoit-Peche'`. By this mere instantiation, it performs:\n",
    "\n",
    "- Epanechnikov kernel estimation of the density $\\rho_{ \\mathbf{E} } (\\lambda)$ and Hilbert transform $h_{ \\mathbf{E} } (\\lambda)$ of the sample eigenvalues $\\lambda_{i}$; they are then available in the attributes `lambdas_kernel_density` and `lambdas_kernel_Hilbert`; the kernel bandwidth is set to $\\mathfrak{b} = T^{-1/3}$, and resides in `bandwidth` (and can be changed here);\n",
    "\n",
    "- calculation of the Ledoit-Péché intermediate variables $\\alpha_{i}$, $\\beta_{i}$, and $u_{i}$, as well as the actual shrunk eigenvalues, $\\xi^{ \\textrm{LP} }_{i}$; they reside in the attributes `alpha`, `beta`, `u_range`, `xi_LP`;\n",
    "\n",
    "- since we now possess the Ledoit-Péché shrunk eigenvalues, we may well perform Epanechnikov kernel estimation of their density $\\rho_{ \\mathbf{\\Xi} } (\\xi)$ and Hilbert transform $h_{ \\mathbf{\\Xi} } (\\xi)$; attributes `xi_LP_kernel_density` and `xi_LP_kernel_Hilbert`."
   ]
  },
  {
   "cell_type": "markdown",
   "id": "a2f66f84",
   "metadata": {},
   "source": [
    "### 2.2.1. Instantiation of the class"
   ]
  },
  {
   "cell_type": "markdown",
   "id": "09fe9398",
   "metadata": {},
   "source": [
    "First, simulate a data matrix $\\mathbf{Y}$ from the \"sandwich\" model, with $\\mathbf{C}$ consisting of two clustered eigenvalues, and no auto-correlations (i.e., the regime to which the Ledoit-Péché formula applies)."
   ]
  },
  {
   "cell_type": "code",
   "execution_count": 60,
   "id": "9d7204d4",
   "metadata": {},
   "outputs": [],
   "source": [
    "N = 500\n",
    "T = 1000"
   ]
  },
  {
   "cell_type": "code",
   "execution_count": 61,
   "id": "e125d05b",
   "metadata": {},
   "outputs": [],
   "source": [
    "sample_0 = SampleEigenvalues(\n",
    "    method='sandwich',\n",
    "    N=N,\n",
    "    C_model='clusters',\n",
    "    f_list=[0.5],\n",
    "    e_list=[1., 3.],\n",
    "    T=T\n",
    ")"
   ]
  },
  {
   "cell_type": "markdown",
   "id": "ff1f42a6",
   "metadata": {},
   "source": [
    "Instantiate the Ledoit-Péché shrinkage class, with the sample eigenvalues from the simulation above:"
   ]
  },
  {
   "cell_type": "code",
   "execution_count": 62,
   "id": "0eda3ecd",
   "metadata": {},
   "outputs": [
    {
     "data": {
      "text/plain": [
       "'Ledoit-Peche'"
      ]
     },
     "execution_count": 62,
     "metadata": {},
     "output_type": "execute_result"
    }
   ],
   "source": [
    "shrinkage_0 = LedoitPecheShrinkage(\n",
    "    lambdas=sample_0.E_eigval,\n",
    "    T=sample_0.T\n",
    ")\n",
    "\n",
    "shrinkage_0.name"
   ]
  },
  {
   "cell_type": "markdown",
   "id": "29724124",
   "metadata": {},
   "source": [
    "Kernel estimates for $\\mathbf{E}$:"
   ]
  },
  {
   "cell_type": "code",
   "execution_count": 63,
   "id": "2f4cc0b1",
   "metadata": {},
   "outputs": [
    {
     "data": {
      "text/plain": [
       "(500,)"
      ]
     },
     "execution_count": 63,
     "metadata": {},
     "output_type": "execute_result"
    }
   ],
   "source": [
    "shrinkage_0.lambdas_kernel_density.shape"
   ]
  },
  {
   "cell_type": "code",
   "execution_count": 64,
   "id": "aa0d6b21",
   "metadata": {},
   "outputs": [
    {
     "data": {
      "text/plain": [
       "(500,)"
      ]
     },
     "execution_count": 64,
     "metadata": {},
     "output_type": "execute_result"
    }
   ],
   "source": [
    "shrinkage_0.lambdas_kernel_Hilbert.shape"
   ]
  },
  {
   "cell_type": "markdown",
   "id": "cb2c6149",
   "metadata": {},
   "source": [
    "The Ledoit-Péché intermediate variables and the final result:"
   ]
  },
  {
   "cell_type": "code",
   "execution_count": 65,
   "id": "f2d66bc7",
   "metadata": {},
   "outputs": [
    {
     "data": {
      "text/plain": [
       "(500,)"
      ]
     },
     "execution_count": 65,
     "metadata": {},
     "output_type": "execute_result"
    }
   ],
   "source": [
    "shrinkage_0.alpha.shape"
   ]
  },
  {
   "cell_type": "code",
   "execution_count": 66,
   "id": "6d230b27",
   "metadata": {},
   "outputs": [
    {
     "data": {
      "text/plain": [
       "(500,)"
      ]
     },
     "execution_count": 66,
     "metadata": {},
     "output_type": "execute_result"
    }
   ],
   "source": [
    "shrinkage_0.beta.shape"
   ]
  },
  {
   "cell_type": "code",
   "execution_count": 67,
   "id": "a19c29dd",
   "metadata": {},
   "outputs": [
    {
     "data": {
      "text/plain": [
       "(500,)"
      ]
     },
     "execution_count": 67,
     "metadata": {},
     "output_type": "execute_result"
    }
   ],
   "source": [
    "shrinkage_0.u_range.shape"
   ]
  },
  {
   "cell_type": "code",
   "execution_count": 68,
   "id": "11c0a45b",
   "metadata": {},
   "outputs": [
    {
     "data": {
      "text/plain": [
       "(500,)"
      ]
     },
     "execution_count": 68,
     "metadata": {},
     "output_type": "execute_result"
    }
   ],
   "source": [
    "shrinkage_0.xi_LP.shape"
   ]
  },
  {
   "cell_type": "markdown",
   "id": "2ff01e00",
   "metadata": {},
   "source": [
    "Kernel estimates for $\\mathbf{\\Xi}$:"
   ]
  },
  {
   "cell_type": "code",
   "execution_count": 69,
   "id": "b739a317",
   "metadata": {},
   "outputs": [
    {
     "data": {
      "text/plain": [
       "(500,)"
      ]
     },
     "execution_count": 69,
     "metadata": {},
     "output_type": "execute_result"
    }
   ],
   "source": [
    "shrinkage_0.xi_LP_kernel_density.shape"
   ]
  },
  {
   "cell_type": "code",
   "execution_count": 70,
   "id": "25ffced5",
   "metadata": {},
   "outputs": [
    {
     "data": {
      "text/plain": [
       "(500,)"
      ]
     },
     "execution_count": 70,
     "metadata": {},
     "output_type": "execute_result"
    }
   ],
   "source": [
    "shrinkage_0.xi_LP_kernel_Hilbert.shape"
   ]
  },
  {
   "cell_type": "markdown",
   "id": "b642acde",
   "metadata": {},
   "source": [
    "### 2.2.2. Calculating the shrunk eigenvalues - prediction"
   ]
  },
  {
   "cell_type": "markdown",
   "id": "0b97c8b6",
   "metadata": {},
   "source": [
    "Technical note: Both this class, and its every child, will have a key method called `predict`; its role is to calculate the shrunk eigenvalues $\\xi_{i}$ (residing in the attribute `xi`). In other words, whenever writing a new shrinkage class, make sure the actual calculation of $\\xi_{i}$ is done in `predict`.\n",
    "\n",
    "Here all this method does is a simple substitution, $\\xi_{i} = \\xi^{ \\textrm{LP} }_{i}$, as the actual solution has already been found during the instantiation. The reason is that $\\xi^{ \\textrm{LP} }_{i}$, as well as the intermediate variables, $\\alpha_{i}$, $\\beta_{i}$, $u_{i}$, will _also_ be needed in child classes, for calculations of shrunk eigenvalues under non-trivial $\\mathbf{A}$; thus, we need them separately from the `LedoitPecheShrinkage`'s `predict` method."
   ]
  },
  {
   "cell_type": "code",
   "execution_count": 71,
   "id": "af946d23",
   "metadata": {},
   "outputs": [],
   "source": [
    "shrinkage_0.predict()"
   ]
  },
  {
   "cell_type": "code",
   "execution_count": 72,
   "id": "2445795b",
   "metadata": {},
   "outputs": [
    {
     "data": {
      "text/plain": [
       "(500,)"
      ]
     },
     "execution_count": 72,
     "metadata": {},
     "output_type": "execute_result"
    }
   ],
   "source": [
    "shrinkage_0.xi.shape"
   ]
  },
  {
   "cell_type": "code",
   "execution_count": 73,
   "id": "fa778656",
   "metadata": {},
   "outputs": [
    {
     "data": {
      "text/plain": [
       "True"
      ]
     },
     "execution_count": 73,
     "metadata": {},
     "output_type": "execute_result"
    }
   ],
   "source": [
    "np.allclose(shrinkage_0.xi, shrinkage_0.xi_LP)"
   ]
  },
  {
   "cell_type": "markdown",
   "id": "0ec998ed",
   "metadata": {},
   "source": [
    "### 2.2.3. Plotting capabilities"
   ]
  },
  {
   "cell_type": "markdown",
   "id": "f50c2c8c",
   "metadata": {},
   "source": [
    "The `LedoitPecheShrinkage` class has two plotting methods, `plot` and `hist`. They will really shine for its child classes, when we are able to visually compare $\\xi_{i}$ and $\\xi^{ \\textrm{LP} }_{i}$, as well as investigate multiple branches of the solution $\\xi_{i}$. But for now, let's demonstrate their basic usage."
   ]
  },
  {
   "cell_type": "markdown",
   "id": "f459d8b4",
   "metadata": {},
   "source": [
    "#### `plot`"
   ]
  },
  {
   "cell_type": "markdown",
   "id": "03343717",
   "metadata": {},
   "source": [
    "Having calculated the \"cleaned\"/\"shrunk\" eigenvalues $\\xi_{i}$ from the \"noisy\" ones $\\lambda_{i}$, we may plot the two sets in various ways. One is a simple plot of $\\lambda_{i}$ on the horizontal axis, and $\\xi_{i}$ on the vertical one, produced by the `plot` method."
   ]
  },
  {
   "cell_type": "code",
   "execution_count": 74,
   "id": "483aff08",
   "metadata": {},
   "outputs": [
    {
     "data": {
      "image/png": "[encoded data removed]",
      "text/plain": [
       "<Figure size 432x288 with 1 Axes>"
      ]
     },
     "metadata": {
      "needs_background": "light"
     },
     "output_type": "display_data"
    }
   ],
   "source": [
    "shrinkage_0.plot()"
   ]
  },
  {
   "cell_type": "markdown",
   "id": "30e6ec32",
   "metadata": {},
   "source": [
    "One may also optionally set arguments `xlim`, `ylim` (either a two-element tuple; which range of the respective axis to show), `legend` (Boolean; whether to show a legend, `True` by default), `savefig` (a file name to save the graph)."
   ]
  },
  {
   "cell_type": "markdown",
   "id": "9fd6e162",
   "metadata": {},
   "source": [
    "#### `hist`"
   ]
  },
  {
   "cell_type": "markdown",
   "id": "6ad00ca6",
   "metadata": {},
   "source": [
    "A second type of a plot we may produce is a histogram (the `hist` method), in which we may show any combination of the nine plots:\n",
    "\n",
    "- histograms of $\\lambda_{i}$, of $\\xi_{i}$, or of $\\xi^{\\textrm{LP}}_{i}$,\n",
    "\n",
    "- the (Epanechnikov-kernel-estimated) densities of these three sets of eigenvalues,\n",
    "\n",
    "- as well as their (so-estimated) Hilbert transforms.\n",
    "\n",
    "(An attentive reader will have noticed that we haven't yet performed kernel estimation of the density and Hilbert transform of the $\\xi_{i}$'s, only of the $\\lambda_{i}$'s and the $\\xi^{\\textrm{LP}}_{i}$'s; this is done automatically when we attempt to plot these estimates here, via the \"private\" method `_calculate_epanechnikov_estimates` with the argument `eigval='xi'`. They're then accessible through the attributes `xi_kernel_density` and `xi_kernel_Hilbert`.)\n",
    "\n",
    "For instance:"
   ]
  },
  {
   "cell_type": "code",
   "execution_count": 75,
   "id": "06908bcf",
   "metadata": {},
   "outputs": [
    {
     "data": {
      "image/png": "[encoded data removed]",
      "text/plain": [
       "<Figure size 432x288 with 1 Axes>"
      ]
     },
     "metadata": {
      "needs_background": "light"
     },
     "output_type": "display_data"
    }
   ],
   "source": [
    "shrinkage_0.hist(\n",
    "    show_lambdas=True,\n",
    "    show_xi=True\n",
    ")"
   ]
  },
  {
   "cell_type": "code",
   "execution_count": 76,
   "id": "7c45636b",
   "metadata": {},
   "outputs": [
    {
     "data": {
      "image/png": "[encoded data removed]",
      "text/plain": [
       "<Figure size 432x288 with 1 Axes>"
      ]
     },
     "metadata": {
      "needs_background": "light"
     },
     "output_type": "display_data"
    }
   ],
   "source": [
    "shrinkage_0.hist(\n",
    "    show_lambdas=True,\n",
    "    show_xi=True,\n",
    "    show_lambdas_density=True,\n",
    "    show_xi_density=True\n",
    ")"
   ]
  },
  {
   "cell_type": "code",
   "execution_count": 77,
   "id": "6528ccd9",
   "metadata": {},
   "outputs": [
    {
     "data": {
      "image/png": "[encoded data removed]",
      "text/plain": [
       "<Figure size 432x288 with 1 Axes>"
      ]
     },
     "metadata": {
      "needs_background": "light"
     },
     "output_type": "display_data"
    }
   ],
   "source": [
    "shrinkage_0.hist(\n",
    "    show_lambdas_Hilbert=True,\n",
    "    show_xi_Hilbert=True\n",
    ")"
   ]
  },
  {
   "cell_type": "markdown",
   "id": "b38637a8",
   "metadata": {},
   "source": [
    "One may again optionally set arguments `xlim`, `ylim`, `legend`, `savefig`, plus also `bins` (integer part of $N/4$ by default)."
   ]
  },
  {
   "cell_type": "markdown",
   "id": "d30a1cc8",
   "metadata": {},
   "source": [
    "We now have:"
   ]
  },
  {
   "cell_type": "code",
   "execution_count": 78,
   "id": "93695bd9",
   "metadata": {},
   "outputs": [
    {
     "data": {
      "text/plain": [
       "(500,)"
      ]
     },
     "execution_count": 78,
     "metadata": {},
     "output_type": "execute_result"
    }
   ],
   "source": [
    "shrinkage_0.xi_kernel_density.shape"
   ]
  },
  {
   "cell_type": "code",
   "execution_count": 79,
   "id": "cb5c6d38",
   "metadata": {},
   "outputs": [
    {
     "data": {
      "text/plain": [
       "(500,)"
      ]
     },
     "execution_count": 79,
     "metadata": {},
     "output_type": "execute_result"
    }
   ],
   "source": [
    "shrinkage_0.xi_kernel_Hilbert.shape"
   ]
  },
  {
   "cell_type": "markdown",
   "id": "e92a877d",
   "metadata": {},
   "source": [
    "## 2.3. VARMA shrinkage (`VarmaShrinkage` class)"
   ]
  },
  {
   "cell_type": "markdown",
   "id": "93f1253f",
   "metadata": {},
   "source": [
    "For a non-trivial structure of $\\mathbf{A}$ in the \"sandwich\" model, we need to construct a child class of `LedoitPecheShrinkage` which is able to calculate the $\\chi$-transform of $\\mathbf{A}$, and thus the shrunk eigenvalues, according to the main formula, which we recall:\n",
    "$$\n",
    "\\frac{ \\xi_{i} }{ \\lambda_{i} } = \\frac{ \\textrm{Im} \\, \\chi_{ \\mathbf{A} } (u_{i}) }{ \\textrm{Im} \\, u_{i} } , \\qquad u_{i} \\equiv \\alpha_{i} + \\textrm{i} \\beta_{i}\n",
    "$$\n",
    "For VARMA-type auto-correlations, this class is `VarmaShrinkage`."
   ]
  },
  {
   "cell_type": "markdown",
   "id": "3c8a60ff",
   "metadata": {},
   "source": [
    "### 2.3.1. Instantiation of the class"
   ]
  },
  {
   "cell_type": "markdown",
   "id": "89bf394a",
   "metadata": {},
   "source": [
    "First, simulate $\\mathbf{Y}$ from the \"sandwich\" model, with $\\mathbf{C}$ consisting of two clustered eigenvalues, and $\\mathbf{A}$ exp-decay with auto-correlation time $\\tau = 3$."
   ]
  },
  {
   "cell_type": "code",
   "execution_count": 80,
   "id": "4dc57c05",
   "metadata": {},
   "outputs": [],
   "source": [
    "N = 500\n",
    "T = 1000"
   ]
  },
  {
   "cell_type": "code",
   "execution_count": 81,
   "id": "8035d81a",
   "metadata": {},
   "outputs": [],
   "source": [
    "sample_1 = SampleEigenvalues(\n",
    "    method='sandwich',\n",
    "    N=N,\n",
    "    C_model='clusters',\n",
    "    f_list=[0.5],\n",
    "    e_list=[1., 3.],\n",
    "    T=T,\n",
    "    A_model='exp-decay',\n",
    "    tau=3.\n",
    ")"
   ]
  },
  {
   "cell_type": "markdown",
   "id": "2530e0de",
   "metadata": {},
   "source": [
    "We instantiate an object of `VarmaShrinkage` same as before, with `lambdas` (an array of $\\lambda_{i}$'s), and `T` (the number of samples, $T$). What it does is only instantiates the parent class, `LedoitPecheShrinkage`, therefore computing the Epanechnikov kernel estimates and the Ledoit-Péché variables, as described above."
   ]
  },
  {
   "cell_type": "code",
   "execution_count": 82,
   "id": "ee44c320",
   "metadata": {},
   "outputs": [
    {
     "data": {
      "text/plain": [
       "'Ledoit-Peche'"
      ]
     },
     "execution_count": 82,
     "metadata": {},
     "output_type": "execute_result"
    }
   ],
   "source": [
    "shrinkage_1 = VarmaShrinkage(\n",
    "    lambdas=sample_1.E_eigval,\n",
    "    T=sample_1.T\n",
    ")\n",
    "\n",
    "shrinkage_1.name"
   ]
  },
  {
   "cell_type": "markdown",
   "id": "fb08beda",
   "metadata": {},
   "source": [
    "### 2.3.2. Setting (and getting) VARMA parameters"
   ]
  },
  {
   "cell_type": "markdown",
   "id": "d6ab5f16",
   "metadata": {},
   "source": [
    "We however want to perform shrinkage with VARMA shrinkage, not Ledoit-Péché shrinkage; to this end, we need to set VARMA parameter values, via the `set_params` method. These parameters are:\n",
    "\n",
    "- either an `a_list`, containing $(r_{2} + 1)$ \"MA\" parameters, $a_{0}, a_{1}, \\ldots, a_{ r_{2} }$, and a `b_list`, containing $r_{1}$ \"AR\" parameters, $b_{1}, \\ldots, b_{ r_{1} }$;\n",
    "\n",
    "- or $\\tau$, which means we want a particular VAR(1) model, with $a_{0}$, $b_{1}$ related to $\\tau$ by a formula above; this is a model with simple exponentially-decaying auto-correlations.\n",
    "\n",
    "Note: We emphasize that these parameters should in principle be thought of as \"trainable\", found by some fitting procedure based on the observed sample eigenvalues; in this section, however, we provide these trainable weights by hand. In effect, we're now learning only how to make _predictions_ for fixed parameters, not yet any _fitting_."
   ]
  },
  {
   "cell_type": "markdown",
   "id": "5f5c12ff",
   "metadata": {},
   "source": [
    "We have simulated $\\mathbf{Y}$ from an exp-decay model of $\\mathbf{A}$, with $\\tau = 3$, and let's use this same model now in the shrinkage procedure. But again, in a real-world scenario, such a model for $\\mathbf{A}$ would be unknown; we will see that then a philosophy should be to pick some model of shrinkage, e.g. exp-decay like here, and _fit_ $\\tau$ to the observed data."
   ]
  },
  {
   "cell_type": "code",
   "execution_count": 83,
   "id": "a2b885aa",
   "metadata": {},
   "outputs": [
    {
     "data": {
      "text/plain": [
       "'VAR(1)'"
      ]
     },
     "execution_count": 83,
     "metadata": {},
     "output_type": "execute_result"
    }
   ],
   "source": [
    "shrinkage_1.set_params(\n",
    "    tau=sample_1.auto_covariance.tau\n",
    ")\n",
    "\n",
    "shrinkage_1.name"
   ]
  },
  {
   "cell_type": "markdown",
   "id": "30fd4125",
   "metadata": {},
   "source": [
    "At any moment we may retrieve the paramaters of a given VARMA shrinkage model via the `get_params` method:"
   ]
  },
  {
   "cell_type": "code",
   "execution_count": 84,
   "id": "c4a46de5",
   "metadata": {},
   "outputs": [
    {
     "data": {
      "text/plain": [
       "{'a_list': array([0.69755493]), 'b_list': array([0.71653131])}"
      ]
     },
     "execution_count": 84,
     "metadata": {},
     "output_type": "execute_result"
    }
   ],
   "source": [
    "shrinkage_1.get_params()"
   ]
  },
  {
   "cell_type": "markdown",
   "id": "97266361",
   "metadata": {},
   "source": [
    "Note that we have an `a_list` and `b_list` here; indeed, the exp-decay model is a particular case of VAR(1)."
   ]
  },
  {
   "cell_type": "markdown",
   "id": "3c714497",
   "metadata": {},
   "source": [
    "### 2.3.3. The M-transform of the auto-correlation matrix"
   ]
  },
  {
   "cell_type": "markdown",
   "id": "5b2f7b13",
   "metadata": {},
   "source": [
    "Having now instantiated a particular VARMA shrinkage, here VAR(1) shrinkage, we get access to:\n",
    "\n",
    "- the auto-correlation matrix $\\mathbf{A}$, via the attribute `A`,\n",
    "\n",
    "- its scalar M-transform, $M_{ \\mathbf{A} } (z)$, via the method `calculate_M_transform_A`, called with a real and imaginary parts of $z$.\n",
    "\n",
    "Technical note: The class `VarmaShrinkage` is a child not only of `LedoitPecheShrinkage`, but also of `Varma` (from `shrinkage.varma`), and the latter provides these functionalities."
   ]
  },
  {
   "cell_type": "code",
   "execution_count": 85,
   "id": "84ab6256",
   "metadata": {},
   "outputs": [
    {
     "data": {
      "text/plain": [
       "(1000, 1000)"
      ]
     },
     "execution_count": 85,
     "metadata": {},
     "output_type": "execute_result"
    }
   ],
   "source": [
    "shrinkage_1.A.shape"
   ]
  },
  {
   "cell_type": "code",
   "execution_count": 86,
   "id": "83170160",
   "metadata": {},
   "outputs": [
    {
     "data": {
      "text/plain": [
       "(-0.485246395434082-0.5740889688734291j)"
      ]
     },
     "execution_count": 86,
     "metadata": {},
     "output_type": "execute_result"
    }
   ],
   "source": [
    "shrinkage_1.calculate_M_transform_A(z_re=0.2, z_im=0.3)"
   ]
  },
  {
   "cell_type": "markdown",
   "id": "3c35fb2c",
   "metadata": {},
   "source": [
    "### 2.3.4. Calculating the shrunk eigenvalues - prediction"
   ]
  },
  {
   "cell_type": "markdown",
   "id": "453cab4a",
   "metadata": {},
   "source": [
    "Now, one fundamental method of each shrinkage class is `predict`, which performs the \"cleaning\" - the move from the \"noisy\" $\\lambda_{i}$ to the \"clean\"/\"shrunk\" $\\xi_{i}$."
   ]
  },
  {
   "cell_type": "code",
   "execution_count": 87,
   "id": "fecd357f",
   "metadata": {},
   "outputs": [],
   "source": [
    "shrinkage_1.predict()"
   ]
  },
  {
   "cell_type": "markdown",
   "id": "806b88f7",
   "metadata": {},
   "source": [
    "The shrunk eigenvalues then reside in the `xi` attribute."
   ]
  },
  {
   "cell_type": "code",
   "execution_count": 88,
   "id": "b3b3db77",
   "metadata": {},
   "outputs": [
    {
     "data": {
      "text/plain": [
       "(500,)"
      ]
     },
     "execution_count": 88,
     "metadata": {},
     "output_type": "execute_result"
    }
   ],
   "source": [
    "shrinkage_1.xi.shape"
   ]
  },
  {
   "cell_type": "markdown",
   "id": "f78db2c9",
   "metadata": {},
   "source": [
    "Prediction in the VARMA case amounts to two operations:\n",
    "\n",
    "- First, solving an equation $M_{\\mathbf{A}}(1 / \\chi) = u$ in variable $\\chi$, for given complex $u$, where recall $M_{\\mathbf{A}}(\\cdot)$ is the M-transform of the auto-correlation matrix $\\mathbf{A}$; in other words, $\\chi = \\chi_{\\mathbf{A}}(u) = 1 / N_{\\mathbf{A}}(u)$, making use of the $\\chi$-transform and N-transform of $\\mathbf{A}$, the latter being the functional inverse of the M-transform. For the particular models we consider here, which for the VARMA class are VMA(1), VAR(1), VARMA(1, 1), VMA(2), VAR(2), this turns out to be a polynomial equation in $\\chi$, $P(\\chi) = 0$, of degree, respectively, 2, 2, 3, 5, 5, with coefficients depending on $u$, as well as the pertinent VARMA parameters (e.g. $a_{0}$, $b_{1}$, $b_{2}$ for VAR(2)). These five polynomials $P$ are hard-coded in text files residing in the subdirectory `chi_equations`, and then in a further subdirectory corresponding to the model, e.g. the equation for VAR(2) is in the subdirectory `var_2`, and then in the file `pol.txt`. If you want to recreate these text files, run the `varma.py` script (`py -m varma` from the `shrinkage` directory).\n",
    "\n",
    "- Second, for these polynomial equations we get multiple solutions at each point $\\lambda_{i}$, that is multiple \"branches\", collected in the attribute `chi_roots_branch`; the number of branches resides in `n_branches`. Consequently, we need to select the \"right\" branch; to this end, one simply needs to calculate $M_{\\mathbf{A}}(1 / \\chi)$ on each branch (it's stored in the `M_of_N_branch` attribute), and select the one where this quantity is equal to $u$ (which in turn is stored in the `u_range` attribute, as we already know).\n",
    "\n",
    "Recall that the relation of $u_{i}$ to $\\lambda_{i}$ is $u_{i} = \\alpha_{i} + \\textrm{i} \\beta_{i}$, where we've defined above the Ledoit-Péché intermediate variables. Then, if we solve for $\\chi_{i}$, and choose the correct branch, the final shrunk eigenvalue is given by the fundamental formula:\n",
    "$$\n",
    "\\xi_{i} = \\frac{ \\lambda_{i} }{ \\beta_{i} } \\textrm{Im} \\chi_{i}\n",
    "$$\n",
    "All the branches of $\\xi_{i}$ reside in the `xi_branch` attribute.\n",
    "\n",
    "All these \"branch\" attributes are of shape `(n_branches, N)`. After selecting the right branch, we have length-`N` array attributes, `chi_roots` and `xi`."
   ]
  },
  {
   "cell_type": "markdown",
   "id": "3dd47f49",
   "metadata": {},
   "source": [
    "For the present VAR(1) case, we have a second degree polynomial, and so two branches:"
   ]
  },
  {
   "cell_type": "code",
   "execution_count": 89,
   "id": "b7c67f1a",
   "metadata": {},
   "outputs": [
    {
     "data": {
      "text/plain": [
       "2"
      ]
     },
     "execution_count": 89,
     "metadata": {},
     "output_type": "execute_result"
    }
   ],
   "source": [
    "shrinkage_1.n_branches"
   ]
  },
  {
   "cell_type": "code",
   "execution_count": 90,
   "id": "9b1eaf44",
   "metadata": {},
   "outputs": [
    {
     "data": {
      "text/plain": [
       "(500,)"
      ]
     },
     "execution_count": 90,
     "metadata": {},
     "output_type": "execute_result"
    }
   ],
   "source": [
    "shrinkage_1.chi_roots_branch[0].shape"
   ]
  },
  {
   "cell_type": "code",
   "execution_count": 91,
   "id": "effc1178",
   "metadata": {},
   "outputs": [
    {
     "data": {
      "text/plain": [
       "(500,)"
      ]
     },
     "execution_count": 91,
     "metadata": {},
     "output_type": "execute_result"
    }
   ],
   "source": [
    "shrinkage_1.chi_roots_branch[1].shape"
   ]
  },
  {
   "cell_type": "code",
   "execution_count": 92,
   "id": "1384c9ae",
   "metadata": {},
   "outputs": [
    {
     "data": {
      "text/plain": [
       "(500,)"
      ]
     },
     "execution_count": 92,
     "metadata": {},
     "output_type": "execute_result"
    }
   ],
   "source": [
    "shrinkage_1.xi_branch[0].shape"
   ]
  },
  {
   "cell_type": "code",
   "execution_count": 93,
   "id": "6c89f006",
   "metadata": {},
   "outputs": [
    {
     "data": {
      "text/plain": [
       "(500,)"
      ]
     },
     "execution_count": 93,
     "metadata": {},
     "output_type": "execute_result"
    }
   ],
   "source": [
    "shrinkage_1.xi_branch[1].shape"
   ]
  },
  {
   "cell_type": "code",
   "execution_count": 94,
   "id": "82704cc3",
   "metadata": {},
   "outputs": [
    {
     "data": {
      "text/plain": [
       "(2, 500)"
      ]
     },
     "execution_count": 94,
     "metadata": {},
     "output_type": "execute_result"
    }
   ],
   "source": [
    "shrinkage_1.M_of_N_branch.shape"
   ]
  },
  {
   "cell_type": "markdown",
   "id": "0c0f091f",
   "metadata": {},
   "source": [
    "The correct branch, as mentioned, is in:"
   ]
  },
  {
   "cell_type": "code",
   "execution_count": 95,
   "id": "fefb28b3",
   "metadata": {},
   "outputs": [
    {
     "data": {
      "text/plain": [
       "(500,)"
      ]
     },
     "execution_count": 95,
     "metadata": {},
     "output_type": "execute_result"
    }
   ],
   "source": [
    "shrinkage_1.xi.shape"
   ]
  },
  {
   "cell_type": "code",
   "execution_count": 96,
   "id": "491f27a0",
   "metadata": {},
   "outputs": [
    {
     "data": {
      "text/plain": [
       "(500,)"
      ]
     },
     "execution_count": 96,
     "metadata": {},
     "output_type": "execute_result"
    }
   ],
   "source": [
    "shrinkage_1.chi_roots.shape"
   ]
  },
  {
   "cell_type": "markdown",
   "id": "1db6110c",
   "metadata": {},
   "source": [
    "### 2.3.5. Prediction on a batch"
   ]
  },
  {
   "cell_type": "markdown",
   "id": "e3195c5d",
   "metadata": {},
   "source": [
    "We may perform prediction only on a subset of indices $i$ of $\\lambda_{i}$."
   ]
  },
  {
   "cell_type": "code",
   "execution_count": 97,
   "id": "a20b427d",
   "metadata": {},
   "outputs": [],
   "source": [
    "shrinkage_1.predict(\n",
    "    batch_idx=[5, 18, 177, 352, 419]\n",
    ")"
   ]
  },
  {
   "cell_type": "code",
   "execution_count": 98,
   "id": "7171bac3",
   "metadata": {},
   "outputs": [
    {
     "data": {
      "text/plain": [
       "(5,)"
      ]
     },
     "execution_count": 98,
     "metadata": {},
     "output_type": "execute_result"
    }
   ],
   "source": [
    "shrinkage_1.xi.shape"
   ]
  },
  {
   "cell_type": "code",
   "execution_count": 99,
   "id": "7efb34a4",
   "metadata": {},
   "outputs": [
    {
     "data": {
      "text/plain": [
       "(5,)"
      ]
     },
     "execution_count": 99,
     "metadata": {},
     "output_type": "execute_result"
    }
   ],
   "source": [
    "shrinkage_1.chi_roots.shape"
   ]
  },
  {
   "cell_type": "markdown",
   "id": "176b30e0",
   "metadata": {},
   "source": [
    "We now have attributes available that record the batch size and the batch indices:"
   ]
  },
  {
   "cell_type": "code",
   "execution_count": 100,
   "id": "50f738b3",
   "metadata": {},
   "outputs": [
    {
     "data": {
      "text/plain": [
       "5"
      ]
     },
     "execution_count": 100,
     "metadata": {},
     "output_type": "execute_result"
    }
   ],
   "source": [
    "shrinkage_1.N_batch"
   ]
  },
  {
   "cell_type": "code",
   "execution_count": 101,
   "id": "1f49a430",
   "metadata": {},
   "outputs": [
    {
     "data": {
      "text/plain": [
       "[5, 18, 177, 352, 419]"
      ]
     },
     "execution_count": 101,
     "metadata": {},
     "output_type": "execute_result"
    }
   ],
   "source": [
    "shrinkage_1.batch_idx"
   ]
  },
  {
   "cell_type": "markdown",
   "id": "3bd8e90e",
   "metadata": {},
   "source": [
    "We emphasize also that when we make a prediction, the resulting shrunk eigenvalues aren't returned, rather they're every time recorded in the attribute `xi`."
   ]
  },
  {
   "cell_type": "markdown",
   "id": "0fa09603",
   "metadata": {},
   "source": [
    "### 2.3.6. Prediction with gradients"
   ]
  },
  {
   "cell_type": "markdown",
   "id": "1d13bcf4",
   "metadata": {},
   "source": [
    "We may also optionally (`calculate_grads=True`), alongside the calculation of $\\chi_{i}$ and $\\xi_{i}$, compute the _gradients_ $\\partial \\chi_{i} / \\partial \\theta$ and $\\partial \\xi_{i} / \\partial \\theta$ for every VARMA model parameter $\\theta$, e.g. $a_{0}$, $a_{1}$, $b_{1}$, etc. To this end, we retrieve appropriate text files, e.g. `grad_a0.txt` from the `var_1` folder, which would be the gradient w.r.t. $a_{0}$ of the polynomial $P$ (residing, as we recall, in the `pol.txt` file). Every model folder, like `var_1`, contains all such gradient files, plus `grad_chi.txt` for the gradient w.r.t. $\\chi$. Now, differentiating the basic equation $P(u, \\chi; \\{ \\theta \\}) = 0$, solved by $\\chi = \\chi(u; \\{ \\theta \\})$, w.r.t. each parameter $\\theta$, relates the gradients we're aiming to compute with the gradients recorded in the text files:\n",
    "$$\n",
    "\\frac{ \\partial \\chi }{ \\partial \\theta } = - \\frac{ \\frac{ \\partial P }{ \\partial \\theta } }{ \\frac{ \\partial P }{ \\partial \\chi } }\n",
    "$$\n",
    "(If one wishes more reassurance, one may solve the relevant quadratic equation for the VAR(1) case, calculate its derivative on the l.h.s., and compare with the r.h.s. - they will agree.) Once this is calculated, the more relevant gradient of the shrunk eigenvalue w.r.t. every VARMA model parameter is:\n",
    "$$\n",
    "\\frac{ \\partial \\xi }{ \\partial \\theta } = \\frac{ \\lambda }{ \\beta } \\textrm{Im} \\frac{ \\partial \\chi }{ \\partial \\theta }\n",
    "$$\n",
    "These two gradients reside in the `chi_grads` and `xi_grads` attributes, which are dictionaries, with keys being string representations of the VARMA parameter names, and the values being arrays of length `N` (or `N_batch`), corresponding to the index $i$."
   ]
  },
  {
   "cell_type": "code",
   "execution_count": 102,
   "id": "b0ff74e9",
   "metadata": {},
   "outputs": [],
   "source": [
    "shrinkage_1.predict(calculate_grads=True)"
   ]
  },
  {
   "cell_type": "code",
   "execution_count": 103,
   "id": "f43ba3d7",
   "metadata": {},
   "outputs": [
    {
     "data": {
      "text/plain": [
       "(500,)"
      ]
     },
     "execution_count": 103,
     "metadata": {},
     "output_type": "execute_result"
    }
   ],
   "source": [
    "shrinkage_1.xi.shape"
   ]
  },
  {
   "cell_type": "code",
   "execution_count": 104,
   "id": "1c42e679",
   "metadata": {},
   "outputs": [
    {
     "data": {
      "text/plain": [
       "(500,)"
      ]
     },
     "execution_count": 104,
     "metadata": {},
     "output_type": "execute_result"
    }
   ],
   "source": [
    "shrinkage_1.chi_roots.shape"
   ]
  },
  {
   "cell_type": "code",
   "execution_count": 105,
   "id": "695469d0",
   "metadata": {},
   "outputs": [
    {
     "data": {
      "text/plain": [
       "dict_keys(['a0', 'b1'])"
      ]
     },
     "execution_count": 105,
     "metadata": {},
     "output_type": "execute_result"
    }
   ],
   "source": [
    "shrinkage_1.chi_grads.keys()"
   ]
  },
  {
   "cell_type": "code",
   "execution_count": 106,
   "id": "4694676e",
   "metadata": {},
   "outputs": [
    {
     "data": {
      "text/plain": [
       "500"
      ]
     },
     "execution_count": 106,
     "metadata": {},
     "output_type": "execute_result"
    }
   ],
   "source": [
    "len(shrinkage_1.chi_grads['a0'])"
   ]
  },
  {
   "cell_type": "code",
   "execution_count": 107,
   "id": "911bee52",
   "metadata": {},
   "outputs": [
    {
     "data": {
      "text/plain": [
       "dict_keys(['a0', 'b1'])"
      ]
     },
     "execution_count": 107,
     "metadata": {},
     "output_type": "execute_result"
    }
   ],
   "source": [
    "shrinkage_1.xi_grads.keys()"
   ]
  },
  {
   "cell_type": "code",
   "execution_count": 108,
   "id": "313aea8b",
   "metadata": {},
   "outputs": [
    {
     "data": {
      "text/plain": [
       "(500,)"
      ]
     },
     "execution_count": 108,
     "metadata": {},
     "output_type": "execute_result"
    }
   ],
   "source": [
    "shrinkage_1.xi_grads['a0'].shape"
   ]
  },
  {
   "cell_type": "markdown",
   "id": "bbf413dc",
   "metadata": {},
   "source": [
    "We may check these gradients numerically by slightly modifying a VARMA parameter, predicting the new shrunk eigenvalues, and seeing if they changed as compared to the old ones by the gradient:"
   ]
  },
  {
   "cell_type": "code",
   "execution_count": 109,
   "id": "9df2069f",
   "metadata": {},
   "outputs": [],
   "source": [
    "from copy import deepcopy"
   ]
  },
  {
   "cell_type": "code",
   "execution_count": 110,
   "id": "35289398",
   "metadata": {},
   "outputs": [
    {
     "data": {
      "text/plain": [
       "True"
      ]
     },
     "execution_count": 110,
     "metadata": {},
     "output_type": "execute_result"
    }
   ],
   "source": [
    "shrinkage_1.predict()\n",
    "xi_1 = shrinkage_1.xi.copy()\n",
    "\n",
    "eps =1e-4\n",
    "\n",
    "params_dict_new = deepcopy(shrinkage_1.get_params())\n",
    "params_dict_new['a_list'][0] += eps\n",
    "\n",
    "shrinkage_1_eps = VarmaShrinkage(\n",
    "    lambdas=sample_1.E_eigval,\n",
    "    T=sample_1.T\n",
    ")\n",
    "shrinkage_1_eps.set_params(**params_dict_new)\n",
    "shrinkage_1_eps.predict()\n",
    "\n",
    "xi_1_eps = shrinkage_1_eps.xi.copy()\n",
    "\n",
    "np.allclose((xi_1_eps - xi_1)/eps, shrinkage_1.xi_grads['a0'], atol=1e-2, rtol=1e-2)"
   ]
  },
  {
   "cell_type": "code",
   "execution_count": 111,
   "id": "d2e424d8",
   "metadata": {},
   "outputs": [
    {
     "data": {
      "image/png": "[encoded data removed]",
      "text/plain": [
       "<Figure size 432x288 with 1 Axes>"
      ]
     },
     "metadata": {
      "needs_background": "light"
     },
     "output_type": "display_data"
    }
   ],
   "source": [
    "plt.plot(sample_1.E_eigval, shrinkage_1.xi_grads['a0'], 'r', label='analytical gradient')\n",
    "plt.plot(sample_1.E_eigval, (xi_1_eps - xi_1)/eps, 'g--', label='numerical gradient')\n",
    "plt.legend()\n",
    "plt.show()"
   ]
  },
  {
   "cell_type": "markdown",
   "id": "d1b49911",
   "metadata": {},
   "source": [
    "### 2.3.7. Plotting capabilities"
   ]
  },
  {
   "cell_type": "markdown",
   "id": "f31be167",
   "metadata": {},
   "source": [
    "The plotting methods, `plot` and `hist`, are part of the parent class, `LedoitPecheShrinkage`, but for shrinkage with non-trivial $\\mathbf{A}$, they allow for broader capabilities."
   ]
  },
  {
   "cell_type": "markdown",
   "id": "47ffa7f2",
   "metadata": {},
   "source": [
    "#### `plot`"
   ]
  },
  {
   "cell_type": "markdown",
   "id": "8877c0f7",
   "metadata": {},
   "source": [
    "Recall that `plot` shows $\\lambda_{i}$ on the horizontal axis, and $\\xi_{i}$ on the vertical axis."
   ]
  },
  {
   "cell_type": "code",
   "execution_count": 112,
   "id": "e70eb6c8",
   "metadata": {},
   "outputs": [
    {
     "data": {
      "image/png": "[encoded data removed]",
      "text/plain": [
       "<Figure size 432x288 with 1 Axes>"
      ]
     },
     "metadata": {
      "needs_background": "light"
     },
     "output_type": "display_data"
    }
   ],
   "source": [
    "shrinkage_1.plot()"
   ]
  },
  {
   "cell_type": "markdown",
   "id": "ce777f19",
   "metadata": {},
   "source": [
    "For these more complicated shrinkage models, there are typically multiple branches of solutions for $\\xi_{i}$. We may use `plot` to show all of the branches together (`branch='all'`), or perhaps some select ones by setting the `branch` argument of `plot` to a string with a branch number, e.g. `'2'`, or a list of such strings, e.g. `['1', '2']`, where the convention is that branches are one-indexed, so 1, 2, 3, etc."
   ]
  },
  {
   "cell_type": "code",
   "execution_count": 113,
   "id": "7535b8e9",
   "metadata": {},
   "outputs": [
    {
     "data": {
      "image/png": "[encoded data removed]",
      "text/plain": [
       "<Figure size 432x288 with 1 Axes>"
      ]
     },
     "metadata": {
      "needs_background": "light"
     },
     "output_type": "display_data"
    }
   ],
   "source": [
    "shrinkage_1.plot(branch='all')"
   ]
  },
  {
   "cell_type": "code",
   "execution_count": 114,
   "id": "c8798478",
   "metadata": {},
   "outputs": [
    {
     "data": {
      "image/png": "[encoded data removed]",
      "text/plain": [
       "<Figure size 432x288 with 1 Axes>"
      ]
     },
     "metadata": {
      "needs_background": "light"
     },
     "output_type": "display_data"
    }
   ],
   "source": [
    "shrinkage_1.plot(branch='1')"
   ]
  },
  {
   "cell_type": "markdown",
   "id": "cfca09b5",
   "metadata": {},
   "source": [
    "#### `hist`"
   ]
  },
  {
   "cell_type": "markdown",
   "id": "88e91610",
   "metadata": {},
   "source": [
    "The `hist` method, recall, shows any select combination of the nine plots:\n",
    "\n",
    "- histograms of $\\lambda_{i}$, of $\\xi_{i}$, or of $\\xi^{\\textrm{LP}}_{i}$,\n",
    "\n",
    "- the (Epanechnikov-kernel-estimated) densities of these three sets of eigenvalues,\n",
    "\n",
    "- as well as their (so-estimated) Hilbert transforms."
   ]
  },
  {
   "cell_type": "code",
   "execution_count": 116,
   "id": "f0c3f551",
   "metadata": {},
   "outputs": [
    {
     "data": {
      "image/png": "[encoded data removed]",
      "text/plain": [
       "<Figure size 432x288 with 1 Axes>"
      ]
     },
     "metadata": {
      "needs_background": "light"
     },
     "output_type": "display_data"
    }
   ],
   "source": [
    "shrinkage_1.hist(\n",
    "    show_lambdas=True,\n",
    "    show_xi=True\n",
    ")"
   ]
  },
  {
   "cell_type": "code",
   "execution_count": 120,
   "id": "4586ae3e",
   "metadata": {},
   "outputs": [
    {
     "data": {
      "image/png": "[encoded data removed]",
      "text/plain": [
       "<Figure size 432x288 with 1 Axes>"
      ]
     },
     "metadata": {
      "needs_background": "light"
     },
     "output_type": "display_data"
    }
   ],
   "source": [
    "shrinkage_1.hist(\n",
    "    show_lambdas=True,\n",
    "    show_xi=True,\n",
    "    show_lambdas_density=True,\n",
    "    show_xi_density=True,\n",
    "    ylim=(0, 1.8),\n",
    "    savefig='figures\\C_clusters_2_Gaussian_VAR_1_exp_decay_hist.png'\n",
    ")"
   ]
  },
  {
   "cell_type": "code",
   "execution_count": 121,
   "id": "5d389bc0",
   "metadata": {},
   "outputs": [
    {
     "data": {
      "image/png": "[encoded data removed]",
      "text/plain": [
       "<Figure size 432x288 with 1 Axes>"
      ]
     },
     "metadata": {
      "needs_background": "light"
     },
     "output_type": "display_data"
    }
   ],
   "source": [
    "shrinkage_1.hist(\n",
    "    show_lambdas=True,\n",
    "    show_xi_LP=True,\n",
    "    show_lambdas_density=True,\n",
    "    show_xi_LP_density=True,\n",
    "    ylim=(0, 1.8),\n",
    "    savefig='figures\\C_clusters_2_Gaussian_VAR_1_exp_decay_hist_LP.png'\n",
    ")"
   ]
  },
  {
   "cell_type": "code",
   "execution_count": 122,
   "id": "b64c644a",
   "metadata": {},
   "outputs": [
    {
     "data": {
      "image/png": "[encoded data removed]",
      "text/plain": [
       "<Figure size 432x288 with 1 Axes>"
      ]
     },
     "metadata": {
      "needs_background": "light"
     },
     "output_type": "display_data"
    }
   ],
   "source": [
    "shrinkage_1.hist(\n",
    "    show_lambdas_Hilbert=True,\n",
    "    show_xi_Hilbert=True,\n",
    "    show_xi_LP_Hilbert=True\n",
    ")"
   ]
  },
  {
   "cell_type": "markdown",
   "id": "898b7249",
   "metadata": {},
   "source": [
    "## 2.4. Fitting to oracle eigenvalues"
   ]
  },
  {
   "cell_type": "markdown",
   "id": "269a3ba8",
   "metadata": {},
   "source": [
    "### 2.4.1. RIEs and Frobenius ratio (`SampleEigenvalues` class)"
   ]
  },
  {
   "cell_type": "markdown",
   "id": "54b96995",
   "metadata": {},
   "source": [
    "#### RIEs"
   ]
  },
  {
   "cell_type": "markdown",
   "id": "d0b09569",
   "metadata": {},
   "source": [
    "The main goal of this library is calculating shrunk eigenvalues $\\xi_{i}$. If we take a step back, recall that they are the eigenvalues of a rotationally invariant estimator (RIE), $\\mathbf{\\Xi} = \\sum_{i = 1}^{N} \\xi_{i} | \\mathbf{u}_{i} \\rangle \\langle \\mathbf{u}_{i} | = \\mathbf{U} \\, \\textrm{diag}(\\mathbf{\\xi}) \\, \\mathbf{U}^{\\top}$, with the same eigenvectors as the sample estimator $\\mathbf{E}$. Since these eigenvectors are part of the `SampleEigenvalues` class (the `E_eigvec` attribute), we will also in this class have a method to compute a RIE from a given set of eigenvalues $\\mathbf{x}$, i.e. an expression $\\sum_{i = 1}^{N} x_{i} | \\mathbf{u}_{i} \\rangle \\langle \\mathbf{u}_{i} |$.\n",
    "\n",
    "For instance, compute a RIE with eigenvalues equal to the shrunk eigenvalues $\\xi_{i}$:"
   ]
  },
  {
   "cell_type": "code",
   "execution_count": 123,
   "id": "d1d4b1c3",
   "metadata": {},
   "outputs": [
    {
     "data": {
      "text/plain": [
       "(500, 500)"
      ]
     },
     "execution_count": 123,
     "metadata": {},
     "output_type": "execute_result"
    }
   ],
   "source": [
    "sample_1.rie(x=shrinkage_1.xi).shape"
   ]
  },
  {
   "cell_type": "markdown",
   "id": "1bced3d3",
   "metadata": {},
   "source": [
    "#### Frobenius ratio"
   ]
  },
  {
   "cell_type": "markdown",
   "id": "57019544",
   "metadata": {},
   "source": [
    "In the case when we've simulated our dataset, like we just did, and we know the \"true\" correlation matrix $\\mathbf{C}$, we have access to the method `frobenius_ratio`, with an argument `x`. It first takes the attribute `frobenius_C_E`, which equals the Frobenius norm (i.e., RMSE) of the difference $(\\mathbf{E} - \\mathbf{C})$ between the sample and population correlation matrices; it calculates the Frobenius norm of the difference $(\\mathbf{\\Xi}(\\mathbf{x}) - \\mathbf{C})$; finally, it returns the ratio of the latter to the former. This ratio is a measure of how much better the RIE with eigenvalues `x` estimates the true correlation matrix as compared to the sample estimator. (And the Frobenius norm squared itself of a matrix $\\mathbf{W}$ is defined as $\\textrm{Tr} \\, \\mathbf{W} \\mathbf{W}^{\\top}$.)\n",
    "\n",
    "For instance:"
   ]
  },
  {
   "cell_type": "code",
   "execution_count": 124,
   "id": "40018423",
   "metadata": {},
   "outputs": [
    {
     "data": {
      "text/plain": [
       "0.12158021791412352"
      ]
     },
     "execution_count": 124,
     "metadata": {},
     "output_type": "execute_result"
    }
   ],
   "source": [
    "sample_1.frobenius_ratio(x=shrinkage_1.xi)"
   ]
  },
  {
   "cell_type": "code",
   "execution_count": 125,
   "id": "a6bc5269",
   "metadata": {},
   "outputs": [
    {
     "data": {
      "text/plain": [
       "3188.17139996844"
      ]
     },
     "execution_count": 125,
     "metadata": {},
     "output_type": "execute_result"
    }
   ],
   "source": [
    "sample_1.frobenius_C_E"
   ]
  },
  {
   "cell_type": "markdown",
   "id": "356f3008",
   "metadata": {},
   "source": [
    "For comparison, we may calculate the same ratio for the Ledoit-Péché shrunk eigenvalues $\\xi^{\\textrm{LP}}_{i}$; we know that this shrinkage method is valid only when there are no auto-correlations, and so the Frobenius ratio should be worse (higher) than for our shrinkage, which makes use of the VARMA auto-correlation structure. Notice that we don't need to create a `LedoitPecheShrinkage` object specifically, as our child class also performed this shrinkage internally, as an intermediate step, and the Ledoit-Péché shrunk eigenvalues reside in the `xi_LP` attribute."
   ]
  },
  {
   "cell_type": "code",
   "execution_count": 126,
   "id": "3686581b",
   "metadata": {},
   "outputs": [
    {
     "data": {
      "text/plain": [
       "0.5310882797604631"
      ]
     },
     "execution_count": 126,
     "metadata": {},
     "output_type": "execute_result"
    }
   ],
   "source": [
    "sample_1.frobenius_ratio(x=shrinkage_1.xi_LP)"
   ]
  },
  {
   "cell_type": "markdown",
   "id": "0910e4e8",
   "metadata": {},
   "source": [
    "We've already observed visually how this \"incorrect\" shrinkage works, that it produces a wider (hence, less cleaned) histogram."
   ]
  },
  {
   "cell_type": "markdown",
   "id": "2580ebdc",
   "metadata": {},
   "source": [
    "### 2.4.2. The oracle estimator (`SampleEigenvalues` class)"
   ]
  },
  {
   "cell_type": "markdown",
   "id": "08ca9c9d",
   "metadata": {},
   "source": [
    "Recall the philosophy of RIEs we have outlined above: Our goal is to minimize an error (here: MSE, or \"Frobenius norm\", as it is called in the context of matrices) between the true correlation matrix $\\mathbf{C}$, which is unknown, and its estimator $\\mathbf{\\Xi}$. We choose a particular Ansatz, $\\mathbf{\\Xi} = \\sum_{i = 1}^{N} \\xi_{i} | \\mathbf{u}_{i} \\rangle \\langle \\mathbf{u}_{i} |$, termed a \"rotationally invariant estimator\" (RIE), which means that it has the same eigenvectors $\\mathbf{u}_{i}$ as the sample estimator $\\mathbf{E}$, but some new eigenvalues, $\\xi_{i}$, to be determined via said minimization process. Indeed, these \"shrunk eigenvalues\" can be found in a straightforward way, as the problem is quadratic, $\\xi^{ \\textrm{oracle} }_{i} = \\langle \\mathbf{u}_{i} | \\mathbf{C} | \\mathbf{u}_{i} \\rangle$. In this form, they are referred to as \"oracle eigenvalues\", since they require oracular insight into the underlying $\\mathbf{C}$. Miraculously, however, in the large-dimensional limit ($N, T \\to \\infty$, with $q = N/T$ fixed), it is shown that this formula can be entirely expressed through observable quantities, that is, dependent on the observed sample eigenvalues $\\lambda_{i}$. This is the broad topic of \"shrinkage\", and we have discussed several forms of it.\n",
    "\n",
    "On another note, the oracle eigenvalues can be estimated with an altogether different procedure, cf. section 8.2 of a paper by Joël Bun, Jean-Philippe Bouchaud, Marc Potters ([Cleaning large correlation matrices: tools from random matrix theory](https://arxiv.org/abs/1610.08104), 2016), which we briefly describe.\n",
    "\n",
    "- We take the total number of samples we have, $T_{ \\textrm{total} }$, and divide it into two parts: an \"in-sample\" period of length $T$, and an \"out-of-sample\" period, of length $(T_{ \\textrm{total} } - T)$. Notice that everywhere so far we have only used the initial $T$ samples out of $T_{ \\textrm{total} }$; this here is the only place where we need also the latter \"out-of-sample\" part. This latter part we further divide into $n$ sub-periods (\"folds\") of length $T_{ \\textrm{out} }$, so that $n = \\lfloor (T_{ \\textrm{total} } - T) / T_{ \\textrm{out} } \\rfloor$. In the one-indexed notation here, the in-sample period has temporal indices $1, \\ldots, T$, then a $\\mu$-th fold ($\\mu = 0, \\ldots, n - 1$) has the starting index of $t_{ \\mu } = T + \\mu T_{ \\textrm{out} } + 1$.\n",
    "\n",
    "- The idea is to imagine that we have just observed the \"in-sample\" period, and estimated on it the sample correlation $\\mathbf{E}$. Indeed, this is precisely what the `SampleEigenvalues` class does: $\\mathbf{E} = \\frac{1}{T} \\mathbf{Y}_{ \\textrm{trunc} } \\mathbf{Y}_{ \\textrm{trunc} }^{\\top}$ (the `E` attribute), where $\\mathbf{Y}_{ \\textrm{trunc} }$ is the $N \\times T$ part of $\\mathbf{Y}$. The remaining \"out-of-sample\" period is as of yet in the future.\n",
    "\n",
    "- Think now of $Y_{i t}$ as a financial asset $i$ at time $t$. We now form a portfolio of these assets; in fact, we form $N$ portfolios which, by definition, have weights given by the (in-sample) eigenvectors $\\mathbf{u}_{i}$ of $\\mathbf{E}$. Such an $i$-th portfolio has therefore value at time $t$ of\n",
    "  $$\n",
    "  \\pi_{i t} = \\sum_{j = 1}^{N} [ \\mathbf{u}_{i} ]_{j} Y_{j t} , \\qquad \\textrm{i.e.} \\qquad \\pi_{i} = \\langle \\mathbf{u}_{i} | \\mathbf{Y}\n",
    "  $$\n",
    "\n",
    "- We now want to estimate a _risk_ of every such portfolio. In other words, how much variance it has, but measured not on the in-sample perdiod we have used to construct it, but on the future out-of-sample period - a _realized risk_. Such an out-of-sample risk on a $\\mu$-th fold (starting, recall, at $t_{ \\mu }$, and having length $T_{ \\textrm{out} }$) is,\n",
    "  $$\n",
    "  \\mathcal{R}_{ i, \\mu }^{2} = \\frac{ 1 }{ T_{ \\textrm{out} } } \\sum_{ t = t_{ \\mu } }^{ t_{ \\mu } + T_{ \\textrm{out} } - 1 } \\pi_{i t}^{2} = \\langle \\mathbf{u}_{i} | \\mathbf{E}_{ \\mu } | \\mathbf{u}_{i} \\rangle , \\qquad \\textrm{where} \\qquad \\mathbf{E}_{ \\mu } \\equiv \\frac{ 1 }{ T_{ \\textrm{out} } } \\mathbf{Y}_{ \\mu } \\mathbf{Y}_{ \\mu }^{\\top}\n",
    "  $$\n",
    "  We assume standardized assets, and denote by $\\mathbf{Y}_{ \\mu }$ the temporal part of $\\mathbf{Y}$ that falls into the $\\mu$-th fold.\n",
    "\n",
    "- Finally, average this variance of the $i$-th portfolio on the $\\mu$-th fold over all the folds. This average realized risk of the $i$-the sample eigenportolio is precisely an estimate of the $i$-th oracle eigenvalue,\n",
    "  $$\n",
    "  \\xi^{ \\textrm{oracle} }_{i} \\approx \\frac{1}{n} \\sum_{\\mu = 0}^{n - 1} \\mathcal{R}_{ i, \\mu }^{2} = \\langle \\mathbf{u}_{i} | \\mathbf{E}_{ \\textrm{oos} } | \\mathbf{u}_{i} \\rangle , \\qquad \\textrm{where} \\qquad \\mathbf{E}_{ \\textrm{oos} } \\equiv \\frac{1}{n} \\sum_{\\mu = 0}^{n - 1} \\mathbf{E}_{ \\mu }\n",
    "  $$\n",
    "\n",
    "From the point of view of program design, this out-of-sample procedure is a part of the `SampleEigenvalues` class:\n",
    "\n",
    "- either we call the `calculate_oracle` method on an instance of the class, providing it with a `T_out` parameter;\n",
    "\n",
    "- or we instantiate the class in the first place with this parameter, and the said method is called automatically.\n",
    "\n",
    "The resulting number of folds then resides in the attribute `n`. Crucially, the out-of-sample estimate of the oracle eigenvalues becomes available in the attribute `xi_oracle`."
   ]
  },
  {
   "cell_type": "code",
   "execution_count": 127,
   "id": "822b4822",
   "metadata": {},
   "outputs": [],
   "source": [
    "sample_1.calculate_oracle(T_out=100)"
   ]
  },
  {
   "cell_type": "code",
   "execution_count": 128,
   "id": "2f0ec51c",
   "metadata": {},
   "outputs": [
    {
     "data": {
      "text/plain": [
       "10"
      ]
     },
     "execution_count": 128,
     "metadata": {},
     "output_type": "execute_result"
    }
   ],
   "source": [
    "sample_1.n"
   ]
  },
  {
   "cell_type": "code",
   "execution_count": 129,
   "id": "50c9c737",
   "metadata": {},
   "outputs": [
    {
     "data": {
      "text/plain": [
       "(500,)"
      ]
     },
     "execution_count": 129,
     "metadata": {},
     "output_type": "execute_result"
    }
   ],
   "source": [
    "sample_1.xi_oracle.shape"
   ]
  },
  {
   "cell_type": "markdown",
   "id": "3698a55c",
   "metadata": {},
   "source": [
    "Let's look at the Frobenius ratio for this set of out-of-sample oracle eigenvalues:"
   ]
  },
  {
   "cell_type": "code",
   "execution_count": 130,
   "id": "54b992c6",
   "metadata": {},
   "outputs": [
    {
     "data": {
      "text/plain": [
       "0.12347741395018504"
      ]
     },
     "execution_count": 130,
     "metadata": {},
     "output_type": "execute_result"
    }
   ],
   "source": [
    "sample_1.frobenius_ratio(x=sample_1.xi_oracle)"
   ]
  },
  {
   "cell_type": "markdown",
   "id": "be515325",
   "metadata": {},
   "source": [
    "Notice that this Frobenius ratio is very similar to the one we got from our exp-decay shrinkage $\\xi_{i}$; and much lower than the one from Ledoit-Péché shrinkage."
   ]
  },
  {
   "cell_type": "markdown",
   "id": "31b9840b",
   "metadata": {},
   "source": [
    "### 2.4.3. `plot_with_oracle` method (`LedoitPecheShrinkage` class)"
   ]
  },
  {
   "cell_type": "markdown",
   "id": "f3c1f47c",
   "metadata": {},
   "source": [
    "Let's move back to the `LedoitPecheShrinkage` (parent) class. We have already discussed the `plot` method, with which we plot the shrunk $\\xi_{i}$ versus the noisy $\\lambda_{i}$. The `plot_with_oracle` method is similar to it, but more focused: instead of the ability to show various branches of the solutions of $\\xi_{i}$ (which is useful for investigative purposes), we now can:\n",
    "\n",
    "- show additionally the Ledoit-Péché $\\xi^{ \\textrm{LP} }_{i}$ versus $\\lambda_{i}$ (`show_LP=True`);\n",
    "\n",
    "- crucially, show a scatter plot of the out-of-sample oracle eigenvalues $\\xi^{ \\textrm{oracle} }_{i}$ versus $\\lambda_{i}$ (which we must provide via the `xi_oracle` argument; and which are calculated in the `SampleEigenvalues` class as outlined above).\n",
    "\n",
    "(It has the usual options, `xlim` and `ylim`; `legend`; `savefig`.)"
   ]
  },
  {
   "cell_type": "markdown",
   "id": "8d9fb191",
   "metadata": {},
   "source": [
    "It may be said that the closer our shrinkage $\\xi_{i}$ reflects these out-of-sample oracle eigenvalues, the better. We see how in the situation we have put in an exponentially-decaying auto-correlations to $\\mathbf{Y}$, and we have used an exp-decay shrinkage with the correct $\\tau$, our result follows very closely the oracle scatter plot (in contradistinction to the Ledoit-Péché shrinkage)."
   ]
  },
  {
   "cell_type": "code",
   "execution_count": 131,
   "id": "f57c0d7a",
   "metadata": {},
   "outputs": [
    {
     "data": {
      "image/png": "[encoded data removed]",
      "text/plain": [
       "<Figure size 432x288 with 1 Axes>"
      ]
     },
     "metadata": {
      "needs_background": "light"
     },
     "output_type": "display_data"
    }
   ],
   "source": [
    "shrinkage_1.plot_with_oracle(\n",
    "    xi_oracle=sample_1.xi_oracle,\n",
    "    show_LP=True,\n",
    "    savefig='figures\\C_clusters_2_Gaussian_VAR_1_exp_decay_oracle.png'\n",
    ")"
   ]
  },
  {
   "cell_type": "markdown",
   "id": "38364d54",
   "metadata": {},
   "source": [
    "### 2.4.4. Fitting shrinkage parameters to the oracle eigenvalues (`VarmaShrinkage` class)"
   ]
  },
  {
   "cell_type": "markdown",
   "id": "a7e7974a",
   "metadata": {},
   "source": [
    "When we defined a shrinkage model above, we \"cheated\" in that we provided it with the VARMA parameters precisely equal to the ones we'd used to generate the data (here: the auto-correlation time $\\tau$) - and this information is in principle unknown. Furthermore, it turns out that if we generate data with some VARMA parameters, but a _non-Gaussian_ distribution (e.g. Student-t), even \"cheating\" this way does not guarantee an optimal performance: the Frobenius ratio may be worse than even Ledoit-Péché shrinkage. Indeed, the shrinkage formula assumes a Gaussian basin of distributions. This matter is only more pronounced for real-world data, when we don't know the underlying data-generating model, so can't even \"cheat\".\n",
    "\n",
    "To alleviate this difficulty, in this section we'll look at the problem from a different angle. Having some sample eigenvalues $\\lambda_{i}$, be it generated synthetically according to some model (which suppose is unknown to us), or coming from a real-world dataset, we are at a loss as how to choose a shrinkage model. But what we can do is:\n",
    "\n",
    "- choose a _family_ of shrinkage models, say `VarmaShrinkage` of given $(r_{1}, r_{2})$, and a _grid_ of parameters of this family; the `grid` should be a list of dictionaries, each dictionary corresponding to the kwargs in the shrinkage model;\n",
    "\n",
    "- then calculate the shrunk eigenvalues $\\xi_{i}$ for every parameter set from the grid, from the \"noisy\" $\\lambda_{i}$'s;\n",
    "\n",
    "- on the other hand, calculate the oracle eigenvalues $\\xi^{ \\textrm{oracle} }_{i}$ from the dataset via the out-of-sample procedure;\n",
    "\n",
    "- for every parameter set from the grid, then, compute some given error function between $\\xi_{i}$ and $\\xi^{ \\textrm{oracle} }_{i}$, and choose this set of parameters for which this error is minimal; the error may be e.g. `loss='mse'`.\n",
    "\n",
    "This procedure is accomplished by the `fit` method, with `optimizer='brute'`. In other words, while so far we've done only _prediction_, with parameters conjured out of thin air, now we focus on _fitting_; and we do so by a simple brute-force search of a minimum. Our class supports other optimizers, such as gradient descent, but brute force turns out to be quite effective, especially when fitting a one-dimensional exp-decay case, i.e., VAR(1) shrinkage with $a_{0} = \\sqrt{1 - b_{1}^{2}}$ and $b_{1} = \\exp (-1 / \\tau)$, for one parameter $\\tau$."
   ]
  },
  {
   "cell_type": "markdown",
   "id": "b82e23e8",
   "metadata": {},
   "source": [
    "### 2.4.5. Example: (Brute-force) fitting $\\tau$ to Student-t VMA(1) synthetic data"
   ]
  },
  {
   "cell_type": "markdown",
   "id": "d10438ee",
   "metadata": {},
   "source": [
    "Generate some synthetic data with the Student-t distribution with $5$ degrees of freedom, and a VMA(1) auto-correlation structure. Note that we set here a $T_{ \\textrm{out} }$ parameter, to already calculate the out-of-sample oracle eigenvalues."
   ]
  },
  {
   "cell_type": "code",
   "execution_count": 132,
   "id": "4e137791",
   "metadata": {},
   "outputs": [],
   "source": [
    "N = 500\n",
    "T = 1000"
   ]
  },
  {
   "cell_type": "code",
   "execution_count": 133,
   "id": "c504038a",
   "metadata": {},
   "outputs": [],
   "source": [
    "sample_2 = SampleEigenvalues(\n",
    "    method='sandwich',\n",
    "    N=N,\n",
    "    C_model='clusters',\n",
    "    f_list=[0.5],\n",
    "    e_list=[1., 3.],\n",
    "    T=T,\n",
    "    A_model='VARMA',\n",
    "    a_list=[0.8, 0.5],\n",
    "    dist='Student-t',\n",
    "    df=5.,\n",
    "    T_out=100\n",
    ")"
   ]
  },
  {
   "cell_type": "markdown",
   "id": "98cffb9f",
   "metadata": {},
   "source": [
    "#### Known VARMA parameters"
   ]
  },
  {
   "cell_type": "markdown",
   "id": "a875e4ac",
   "metadata": {},
   "source": [
    "Instantiate first a `VarmaShrinkage` object, adapting it to the above sample eigenvalues, and setting the exact same VMA(1) parameters as used to generate the data. In other words, we \"cheat\" by employing the knowledge we are not supposed to have. And yet we observe that the Frobenius ratio for such a seemingly optimal choice is in fact worse than both of Ledoit-Péché and out-of-sample oracle."
   ]
  },
  {
   "cell_type": "code",
   "execution_count": 134,
   "id": "4b6bf38f",
   "metadata": {},
   "outputs": [
    {
     "data": {
      "text/plain": [
       "'VMA(1)'"
      ]
     },
     "execution_count": 134,
     "metadata": {},
     "output_type": "execute_result"
    }
   ],
   "source": [
    "shrinkage_2 = VarmaShrinkage(\n",
    "    lambdas=sample_2.E_eigval,\n",
    "    T=sample_2.T\n",
    ")\n",
    "shrinkage_2.set_params(\n",
    "    a_list=sample_2.auto_covariance.a_list\n",
    ")\n",
    "\n",
    "shrinkage_2.name"
   ]
  },
  {
   "cell_type": "code",
   "execution_count": 135,
   "id": "32309580",
   "metadata": {},
   "outputs": [],
   "source": [
    "shrinkage_2.predict()"
   ]
  },
  {
   "cell_type": "markdown",
   "id": "e9a02f0f",
   "metadata": {},
   "source": [
    "Frobenius ratios:"
   ]
  },
  {
   "cell_type": "code",
   "execution_count": 136,
   "id": "55f9e260",
   "metadata": {},
   "outputs": [
    {
     "name": "stdout",
     "output_type": "stream",
     "text": [
      "Frobenius ratio:\n",
      "- VMA(1) shrinkage (known parameters): 0.3568017657109138\n",
      "- Ledoit-Peche shrinkage: 0.3326344337655204\n",
      "- Oracle shrinkage: 0.22574868891696367\n"
     ]
    }
   ],
   "source": [
    "print('Frobenius ratio:')\n",
    "print(f'- {shrinkage_2.name} shrinkage (known parameters): {sample_2.frobenius_ratio(x=shrinkage_2.xi)}')\n",
    "print(f'- Ledoit-Peche shrinkage: {sample_2.frobenius_ratio(x=shrinkage_2.xi_LP)}')\n",
    "print(f'- Oracle shrinkage: {sample_2.frobenius_ratio(x=sample_2.xi_oracle)}')"
   ]
  },
  {
   "cell_type": "markdown",
   "id": "18fb2981",
   "metadata": {},
   "source": [
    "Plots:"
   ]
  },
  {
   "cell_type": "code",
   "execution_count": 137,
   "id": "0424cd64",
   "metadata": {},
   "outputs": [
    {
     "data": {
      "image/png": "[encoded data removed]",
      "text/plain": [
       "<Figure size 432x288 with 1 Axes>"
      ]
     },
     "metadata": {
      "needs_background": "light"
     },
     "output_type": "display_data"
    }
   ],
   "source": [
    "shrinkage_2.plot_with_oracle(\n",
    "    xi_oracle=sample_2.xi_oracle,\n",
    "    show_LP=True,\n",
    "    savefig='figures\\C_clusters_2_Student_VMA_1_oracle.png'\n",
    ")"
   ]
  },
  {
   "cell_type": "code",
   "execution_count": 140,
   "id": "00132957",
   "metadata": {},
   "outputs": [
    {
     "data": {
      "image/png": "[encoded data removed]",
      "text/plain": [
       "<Figure size 432x288 with 1 Axes>"
      ]
     },
     "metadata": {
      "needs_background": "light"
     },
     "output_type": "display_data"
    }
   ],
   "source": [
    "shrinkage_2.hist(\n",
    "    show_lambdas=True,\n",
    "    show_xi=True,\n",
    "    show_lambdas_density=True,\n",
    "    show_xi_density=True,\n",
    "    ylim=(0, 0.8),\n",
    "    savefig='figures\\C_clusters_2_Student_VMA_1_hist.png'\n",
    ")"
   ]
  },
  {
   "cell_type": "code",
   "execution_count": 142,
   "id": "a23899c2",
   "metadata": {},
   "outputs": [
    {
     "data": {
      "image/png": "[encoded data removed]",
      "text/plain": [
       "<Figure size 432x288 with 1 Axes>"
      ]
     },
     "metadata": {
      "needs_background": "light"
     },
     "output_type": "display_data"
    }
   ],
   "source": [
    "shrinkage_2.hist(\n",
    "    show_lambdas=True,\n",
    "    show_xi_LP=True,\n",
    "    show_lambdas_density=True,\n",
    "    show_xi_LP_density=True,\n",
    "    ylim=(0, 0.8),\n",
    "    savefig='figures\\C_clusters_2_Student_VMA_1_hist_LP.png'\n",
    ")"
   ]
  },
  {
   "cell_type": "markdown",
   "id": "df6a72b6",
   "metadata": {},
   "source": [
    "#### Fitting VARMA parameters"
   ]
  },
  {
   "cell_type": "markdown",
   "id": "ff947c64",
   "metadata": {},
   "source": [
    "Let's now approach the problem differently: Choose a family of shrinkage models, say a one-parameter ($\\tau$) exp-decay family, dependent not on any oracular knowledge of the data-generating process, rather on the basis of simplicity and robustness. Now, _fit_ this family to the out-of-sample eigenvalues `sample_2.xi_oracle`, by minimizing a loss function (`loss='mse'` by default).\n",
    "\n",
    "Afterwards, the loss values for every grid entry reside in a list `loss_list`. Moreover, the best set of parameters from the grid (the attribute `params_dict_best`) is chosen, and the `predict` method is executed, so that the `xi` attribute now has the \"best\" shrunk eigenvalues. We keep also the best loss (i.e., the minimum of `loss_list`) in the attribute `loss_best`, along `loss_LP`, which is the loss corresponding to the Ledoit-Péché shrunk eigenvalues, for comparison."
   ]
  },
  {
   "cell_type": "code",
   "execution_count": 145,
   "id": "68306a99",
   "metadata": {},
   "outputs": [
    {
     "data": {
      "text/plain": [
       "50"
      ]
     },
     "execution_count": 145,
     "metadata": {},
     "output_type": "execute_result"
    }
   ],
   "source": [
    "tau_list = np.arange(0.1, 5.1, 0.1)\n",
    "grid = [{'tau': tau} for tau in tau_list]\n",
    "len(grid)"
   ]
  },
  {
   "cell_type": "code",
   "execution_count": 146,
   "id": "4ffdc09c",
   "metadata": {},
   "outputs": [
    {
     "data": {
      "application/vnd.jupyter.widget-view+json": {
       "model_id": "efd10d0834d0424d8eb48f5f0a6a2c84",
       "version_major": 2,
       "version_minor": 0
      },
      "text/plain": [
       "  0%|          | 0/50 [00:00<?, ?it/s]"
      ]
     },
     "metadata": {},
     "output_type": "display_data"
    }
   ],
   "source": [
    "shrinkage_2b = VarmaShrinkage(\n",
    "    lambdas=sample_2.E_eigval,\n",
    "    T=sample_2.T\n",
    ")\n",
    "shrinkage_2b.fit(\n",
    "    xi_oracle=sample_2.xi_oracle,\n",
    "    optimizer='brute',\n",
    "    grid=grid\n",
    ")"
   ]
  },
  {
   "cell_type": "code",
   "execution_count": 147,
   "id": "bed79c17",
   "metadata": {},
   "outputs": [
    {
     "data": {
      "image/png": "[encoded data removed]",
      "text/plain": [
       "<Figure size 432x288 with 1 Axes>"
      ]
     },
     "metadata": {
      "needs_background": "light"
     },
     "output_type": "display_data"
    }
   ],
   "source": [
    "plt.plot(tau_list, shrinkage_2b.loss_list, marker='.')\n",
    "plt.xlabel('tau')\n",
    "plt.ylabel('MSE')\n",
    "plt.show()"
   ]
  },
  {
   "cell_type": "code",
   "execution_count": 148,
   "id": "3728f11e",
   "metadata": {},
   "outputs": [
    {
     "data": {
      "image/png": "[encoded data removed]",
      "text/plain": [
       "<Figure size 432x288 with 1 Axes>"
      ]
     },
     "metadata": {
      "needs_background": "light"
     },
     "output_type": "display_data"
    }
   ],
   "source": [
    "plt.plot(tau_list, shrinkage_2b.loss_list, marker='.')\n",
    "plt.xlabel('tau')\n",
    "plt.ylabel('MSE')\n",
    "plt.xlim(0, 2.5)\n",
    "plt.ylim(0, 1)\n",
    "plt.title(f\"best tau: {shrinkage_2b.params_dict_best['tau']}\")\n",
    "plt.savefig('figures\\C_clusters_2_Student_VMA_1_best_tau.png')"
   ]
  },
  {
   "cell_type": "code",
   "execution_count": 149,
   "id": "31f8e1d7",
   "metadata": {},
   "outputs": [
    {
     "data": {
      "text/plain": [
       "{'a_list': array([0.91524827]), 'b_list': array([0.40289032])}"
      ]
     },
     "execution_count": 149,
     "metadata": {},
     "output_type": "execute_result"
    }
   ],
   "source": [
    "shrinkage_2b.get_params()"
   ]
  },
  {
   "cell_type": "markdown",
   "id": "8263f317",
   "metadata": {},
   "source": [
    "Fitting errors:"
   ]
  },
  {
   "cell_type": "code",
   "execution_count": 150,
   "id": "6fc9e3cb",
   "metadata": {},
   "outputs": [
    {
     "name": "stdout",
     "output_type": "stream",
     "text": [
      "Errors:\n",
      "- Best (across the grid) VAR(1) shrinkage: 0.085983516251398\n",
      "- Ledoit-Peche shrinkage: 0.49014319513928645\n"
     ]
    }
   ],
   "source": [
    "print('Errors:')\n",
    "print(f'- Best (across the grid) {shrinkage_2b.name} shrinkage: {shrinkage_2b.loss_best}')\n",
    "print(f'- Ledoit-Peche shrinkage: {shrinkage_2b.loss_LP}')"
   ]
  },
  {
   "cell_type": "markdown",
   "id": "80314292",
   "metadata": {},
   "source": [
    "Frobenius ratios:"
   ]
  },
  {
   "cell_type": "code",
   "execution_count": 151,
   "id": "56946776",
   "metadata": {},
   "outputs": [
    {
     "name": "stdout",
     "output_type": "stream",
     "text": [
      "Frobenius ratio:\n",
      "- Best (across the grid) VAR(1) shrinkage: 0.24406259234162714\n",
      "- Ledoit-Peche shrinkage: 0.3326344337655204\n",
      "- Oracle shrinkage: 0.22574868891696367\n"
     ]
    }
   ],
   "source": [
    "print('Frobenius ratio:')\n",
    "print(f'- Best (across the grid) {shrinkage_2b.name} shrinkage: {sample_2.frobenius_ratio(x=shrinkage_2b.xi)}')\n",
    "print(f'- Ledoit-Peche shrinkage: {sample_2.frobenius_ratio(x=shrinkage_2b.xi_LP)}')\n",
    "print(f'- Oracle shrinkage: {sample_2.frobenius_ratio(x=sample_2.xi_oracle)}')"
   ]
  },
  {
   "cell_type": "markdown",
   "id": "f09b4675",
   "metadata": {},
   "source": [
    "Plots:"
   ]
  },
  {
   "cell_type": "code",
   "execution_count": 152,
   "id": "216f9ded",
   "metadata": {},
   "outputs": [
    {
     "data": {
      "image/png": "[encoded data removed]",
      "text/plain": [
       "<Figure size 432x288 with 1 Axes>"
      ]
     },
     "metadata": {
      "needs_background": "light"
     },
     "output_type": "display_data"
    }
   ],
   "source": [
    "shrinkage_2b.plot_with_oracle(\n",
    "    xi_oracle=sample_2.xi_oracle,\n",
    "    show_LP=True,\n",
    "    savefig='figures\\C_clusters_2_Student_VMA_1_best_tau_oracle.png'\n",
    ")"
   ]
  },
  {
   "cell_type": "code",
   "execution_count": 153,
   "id": "b2e5d549",
   "metadata": {},
   "outputs": [
    {
     "data": {
      "image/png": "[encoded data removed]",
      "text/plain": [
       "<Figure size 432x288 with 1 Axes>"
      ]
     },
     "metadata": {
      "needs_background": "light"
     },
     "output_type": "display_data"
    }
   ],
   "source": [
    "shrinkage_2b.hist(\n",
    "    show_lambdas=True,\n",
    "    show_xi=True,\n",
    "    show_lambdas_density=True,\n",
    "    show_xi_density=True,\n",
    "    ylim=(0, 0.8),\n",
    "    savefig='figures\\C_clusters_2_Student_VMA_1_best_tau_hist.png'\n",
    ")"
   ]
  },
  {
   "cell_type": "markdown",
   "id": "003cac03",
   "metadata": {},
   "source": [
    "### 2.4.6. Example: (Brute-force) fitting $\\tau$ to a S&P 500 dataset"
   ]
  },
  {
   "cell_type": "markdown",
   "id": "9c3ede90",
   "metadata": {},
   "source": [
    "So far we have worked with synthetic (simulated) datasets. But equally well, we may load in a prepared data matrix $\\mathbf{Y}$, only making sure it is in the correct format, that is an $N \\times T_{\\textrm{total}}$ array. To this end, we have a convenience function `load_Y` in the `shrinkage.datasets` module.\n",
    "\n",
    "Furthermore, there is a `datasets` subdirectory, which contains some prepared real-world data. (Note that we may execute this module, `py -m datasets`; it'll generate the included datasets in the correct format from initial datasets, which come from known sources online.)"
   ]
  },
  {
   "cell_type": "code",
   "execution_count": 154,
   "id": "e3e6feb1",
   "metadata": {},
   "outputs": [],
   "source": [
    "from shrinkage.datasets import load_Y"
   ]
  },
  {
   "cell_type": "markdown",
   "id": "40db5247",
   "metadata": {},
   "source": [
    "We will demonstrate the above fitting procedure for a financial dataset of returns of the S&P 500 stock index."
   ]
  },
  {
   "cell_type": "code",
   "execution_count": 156,
   "id": "5f4cb905",
   "metadata": {},
   "outputs": [
    {
     "data": {
      "text/plain": [
       "(470, 1258)"
      ]
     },
     "execution_count": 156,
     "metadata": {},
     "output_type": "execute_result"
    }
   ],
   "source": [
    "Y = load_Y(dataset_name='sp500_5yr')\n",
    "\n",
    "Y.shape"
   ]
  },
  {
   "cell_type": "markdown",
   "id": "c0a4cde1",
   "metadata": {},
   "source": [
    "We may now employ the same class, `SampleEigenvalues`, that we have used extensively for simulation. We simply instantiate it with `method='load'` and a matrix `Y` (and `T`) instead of the simulation attributes like `dist`, `C_model`, `A_model`, etc.\n",
    "\n",
    "Here we choose `T` in such a way so as to have $q = N/T = 0.5$, like in all the synthetic examples above. We also immediately calculate the oracle estimator via the out-of-sample procedure (by setting `T_out`)."
   ]
  },
  {
   "cell_type": "code",
   "execution_count": 158,
   "id": "0af7ea11",
   "metadata": {},
   "outputs": [],
   "source": [
    "sample_3 = SampleEigenvalues(\n",
    "    method='load',\n",
    "    T=2 * Y.shape[0],\n",
    "    Y=Y,\n",
    "    T_out=50\n",
    ")"
   ]
  },
  {
   "cell_type": "markdown",
   "id": "b7d5ece4",
   "metadata": {},
   "source": [
    "There is one subtlety here: this dataset has a number of _outlying_ sample eigenvalues, separate from the _bulk_. For greater visibility, let's remove some number of top eigenvalues from the spectrum, before embarking on a shrinkage analysis."
   ]
  },
  {
   "cell_type": "markdown",
   "id": "b1458ff8",
   "metadata": {},
   "source": [
    "Fit exp-decay shrinkage:"
   ]
  },
  {
   "cell_type": "code",
   "execution_count": 159,
   "id": "25c507cd",
   "metadata": {},
   "outputs": [
    {
     "data": {
      "text/plain": [
       "30"
      ]
     },
     "execution_count": 159,
     "metadata": {},
     "output_type": "execute_result"
    }
   ],
   "source": [
    "tau_list = np.arange(0.1, 3.1, 0.1)\n",
    "grid = [{'tau': tau} for tau in tau_list]\n",
    "len(grid)"
   ]
  },
  {
   "cell_type": "code",
   "execution_count": 169,
   "id": "b6ad921e",
   "metadata": {},
   "outputs": [
    {
     "data": {
      "application/vnd.jupyter.widget-view+json": {
       "model_id": "0b74fa6e2aa14d2ebb56a2faa41837f0",
       "version_major": 2,
       "version_minor": 0
      },
      "text/plain": [
       "  0%|          | 0/30 [00:00<?, ?it/s]"
      ]
     },
     "metadata": {},
     "output_type": "display_data"
    }
   ],
   "source": [
    "n_top = 10\n",
    "\n",
    "shrinkage_3 = VarmaShrinkage(\n",
    "    lambdas=sample_3.E_eigval[:-n_top],\n",
    "    T=sample_3.T\n",
    ")\n",
    "shrinkage_3.fit(\n",
    "    xi_oracle=sample_3.xi_oracle[:-n_top],\n",
    "    optimizer='brute',\n",
    "    grid=grid\n",
    ")"
   ]
  },
  {
   "cell_type": "code",
   "execution_count": 177,
   "id": "9f77ffae",
   "metadata": {},
   "outputs": [
    {
     "data": {
      "image/png": "[encoded data removed]",
      "text/plain": [
       "<Figure size 432x288 with 1 Axes>"
      ]
     },
     "metadata": {
      "needs_background": "light"
     },
     "output_type": "display_data"
    }
   ],
   "source": [
    "plt.plot(tau_list, shrinkage_3.loss_list, marker='.')\n",
    "plt.xlabel('tau')\n",
    "plt.ylabel('MSE')\n",
    "plt.savefig('figures\\SP500_best_tau.png')"
   ]
  },
  {
   "cell_type": "code",
   "execution_count": 171,
   "id": "f31eb0b5",
   "metadata": {},
   "outputs": [
    {
     "data": {
      "text/plain": [
       "{'tau': 1.4000000000000001}"
      ]
     },
     "execution_count": 171,
     "metadata": {},
     "output_type": "execute_result"
    }
   ],
   "source": [
    "shrinkage_3.params_dict_best"
   ]
  },
  {
   "cell_type": "code",
   "execution_count": 172,
   "id": "fcaf97f0",
   "metadata": {},
   "outputs": [
    {
     "data": {
      "text/plain": [
       "{'a_list': array([0.87197991]), 'b_list': array([0.48954166])}"
      ]
     },
     "execution_count": 172,
     "metadata": {},
     "output_type": "execute_result"
    }
   ],
   "source": [
    "shrinkage_3.get_params()"
   ]
  },
  {
   "cell_type": "code",
   "execution_count": 173,
   "id": "2a8d975a",
   "metadata": {},
   "outputs": [
    {
     "name": "stdout",
     "output_type": "stream",
     "text": [
      "Errors:\n",
      "- Best (across the grid) VAR(1) shrinkage: 1.52300866662827e-09\n",
      "- Ledoit-Peche shrinkage: 2.747204083506547e-09\n"
     ]
    }
   ],
   "source": [
    "print('Errors:')\n",
    "print(f'- Best (across the grid) {shrinkage_3.name} shrinkage: {shrinkage_3.loss_best}')\n",
    "print(f'- Ledoit-Peche shrinkage: {shrinkage_3.loss_LP}')"
   ]
  },
  {
   "cell_type": "code",
   "execution_count": 178,
   "id": "023524dc",
   "metadata": {},
   "outputs": [
    {
     "data": {
      "image/png": "[encoded data removed]",
      "text/plain": [
       "<Figure size 432x288 with 1 Axes>"
      ]
     },
     "metadata": {
      "needs_background": "light"
     },
     "output_type": "display_data"
    }
   ],
   "source": [
    "shrinkage_3.plot_with_oracle(\n",
    "    xi_oracle=sample_3.xi_oracle[:-n_top],\n",
    "    show_LP=True,\n",
    "    savefig='figures\\SP500_best_tau_oracle.png'\n",
    ")"
   ]
  },
  {
   "cell_type": "code",
   "execution_count": 179,
   "id": "6424816f",
   "metadata": {},
   "outputs": [
    {
     "data": {
      "image/png": "[encoded data removed]",
      "text/plain": [
       "<Figure size 432x288 with 1 Axes>"
      ]
     },
     "metadata": {
      "needs_background": "light"
     },
     "output_type": "display_data"
    }
   ],
   "source": [
    "shrinkage_3.hist(\n",
    "    show_lambdas=True,\n",
    "    show_xi=True,\n",
    "    show_lambdas_density=True,\n",
    "    show_xi_density=True,\n",
    "    savefig='figures\\SP500_best_tau_hist.png'\n",
    ")"
   ]
  },
  {
   "cell_type": "code",
   "execution_count": null,
   "id": "a951a074",
   "metadata": {},
   "outputs": [],
   "source": []
  }
 ],
 "metadata": {
  "kernelspec": {
   "display_name": "Python 3",
   "language": "python",
   "name": "python3"
  },
  "language_info": {
   "codemirror_mode": {
    "name": "ipython",
    "version": 3
   },
   "file_extension": ".py",
   "mimetype": "text/x-python",
   "name": "python",
   "nbconvert_exporter": "python",
   "pygments_lexer": "ipython3",
   "version": "3.7.9"
  }
 },
 "nbformat": 4,
 "nbformat_minor": 5
}
